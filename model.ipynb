{
  "cells": [
    {
      "cell_type": "code",
      "execution_count": null,
      "metadata": {
        "id": "TApFP4WAzgwb"
      },
      "outputs": [],
      "source": [
        "from typing import Dict, Tuple\n",
        "from tqdm import tqdm\n",
        "import torch\n",
        "import torch.nn as nn\n",
        "import torch.nn.functional as F\n",
        "from torch.utils.data import DataLoader\n",
        "from torchvision import models, transforms\n",
        "from torchvision.utils import save_image, make_grid\n",
        "import matplotlib.pyplot as plt\n",
        "from matplotlib.animation import FuncAnimation, PillowWriter\n",
        "import numpy as np\n",
        "from IPython.display import HTML\n",
        "import os\n",
        "import torchvision"
      ]
    },
    {
      "cell_type": "markdown",
      "source": [
        "## Utils"
      ],
      "metadata": {
        "id": "XNV8VFSJ1mlk"
      }
    },
    {
      "cell_type": "code",
      "source": [
        "def unorm(x):\n",
        "  return (x - x.min()) / (x.max() - x.min())"
      ],
      "metadata": {
        "id": "Yxkjgfmf1tiD"
      },
      "execution_count": null,
      "outputs": []
    },
    {
      "cell_type": "code",
      "source": [
        "def plot_sample(samples, n_sample, nrows):\n",
        "    ncols = n_sample//nrows\n",
        "    samples = unorm(samples.cpu())\n",
        "    # Create a figure with subplots\n",
        "    fig, axes = plt.subplots(nrows, ncols, figsize=(10, 10))\n",
        "\n",
        "    # Flatten the axes array for easy iteration\n",
        "    axes = axes.flatten()\n",
        "\n",
        "    # Loop through each image and plot it\n",
        "    for i in range(n_sample):\n",
        "        # Select image\n",
        "        image = samples[i]  # Shape [3, 16, 16]\n",
        "\n",
        "        # Transpose to [16, 16, 3] for plotting\n",
        "        image = image.permute(1, 2, 0)\n",
        "\n",
        "\n",
        "        # Plot the image in the appropriate subplot\n",
        "        axes[i].imshow(image)\n",
        "        axes[i].axis('off')  # Hide axis\n",
        "        axes[i].set_title(f'Image {i + 1}')  # Set title\n",
        "\n",
        "    # Hide any unused subplots\n",
        "    for j in range(n_sample, nrows * ncols):\n",
        "        axes[j].axis('off')\n",
        "\n",
        "    # Adjust layout\n",
        "    plt.tight_layout()\n",
        "    plt.show()"
      ],
      "metadata": {
        "id": "CZu8ZAyg1npD"
      },
      "execution_count": null,
      "outputs": []
    },
    {
      "cell_type": "markdown",
      "metadata": {
        "id": "xTeE9epD0tzL"
      },
      "source": [
        "## hyperparameters\n"
      ]
    },
    {
      "cell_type": "code",
      "source": [
        "from google.colab import drive\n",
        "drive.mount('/content/drive')"
      ],
      "metadata": {
        "colab": {
          "base_uri": "https://localhost:8080/"
        },
        "id": "K8SrEeSMX-eE",
        "outputId": "384feace-79a8-4ecc-f694-e1e324da43e4"
      },
      "execution_count": null,
      "outputs": [
        {
          "output_type": "stream",
          "name": "stdout",
          "text": [
            "Mounted at /content/drive\n"
          ]
        }
      ]
    },
    {
      "cell_type": "code",
      "execution_count": null,
      "metadata": {
        "id": "tuDtvoT60uPJ"
      },
      "outputs": [],
      "source": [
        "# diffusion hyperparameters\n",
        "num_timesteps = 1000\n",
        "beta_start = 1e-4\n",
        "beta_end = 0.02\n",
        "# network hyperparameters\n",
        "device = torch.device(\"cuda:0\" if torch.cuda.is_available() else torch.device('cpu'))\n",
        "n_feat = 64 # 64 hidden dimension feature\n",
        "n_cfeat = 5 # context vector is of size 5\n",
        "height = 16 # 16x16 image\n",
        "save_dir = '/content/drive/MyDrive/DDPM'\n",
        "os.makedirs(save_dir, exist_ok=True)\n",
        "# training hyperparameters\n",
        "batch_size = 100\n",
        "n_epoch = 70\n",
        "lrate=1e-3\n",
        "save_path=save_dir"
      ]
    },
    {
      "cell_type": "markdown",
      "source": [
        "## Sprites Dataset"
      ],
      "metadata": {
        "id": "2x7PbWcCjx-p"
      }
    },
    {
      "cell_type": "code",
      "source": [
        "!wget 'https://huggingface.co/datasets/ashis-palai/sprites_image_dataset/resolve/a24918819843abc0d1bee75a239024415081a87d/sprites_1788_16x16.npy'\n",
        "!wget 'https://huggingface.co/datasets/ashis-palai/sprites_image_dataset/resolve/a24918819843abc0d1bee75a239024415081a87d/sprite_labels_nc_1788_16x16.npy'"
      ],
      "metadata": {
        "id": "A8rP3LN9kCff",
        "colab": {
          "base_uri": "https://localhost:8080/"
        },
        "collapsed": true,
        "outputId": "5d7941bb-af0e-46fa-944f-4694c340cc68"
      },
      "execution_count": null,
      "outputs": [
        {
          "output_type": "stream",
          "name": "stdout",
          "text": [
            "--2024-12-22 18:01:38--  https://huggingface.co/datasets/ashis-palai/sprites_image_dataset/resolve/a24918819843abc0d1bee75a239024415081a87d/sprites_1788_16x16.npy\n",
            "Resolving huggingface.co (huggingface.co)... 13.33.45.10, 13.33.45.37, 13.33.45.68, ...\n",
            "Connecting to huggingface.co (huggingface.co)|13.33.45.10|:443... connected.\n",
            "HTTP request sent, awaiting response... 302 Found\n",
            "Location: https://cdn-lfs-us-1.hf.co/repos/df/b9/dfb98dd9f5f7c221e653770544f82ac8de0044d1f52ab71a1e42ed1a332ae365/61cf3b7e3184f57f2bc2bf5e75fbcf08ba379241f58966c62a9716ef581b2916?response-content-disposition=inline%3B+filename*%3DUTF-8%27%27sprites_1788_16x16.npy%3B+filename%3D%22sprites_1788_16x16.npy%22%3B&Expires=1735149699&Policy=eyJTdGF0ZW1lbnQiOlt7IkNvbmRpdGlvbiI6eyJEYXRlTGVzc1RoYW4iOnsiQVdTOkVwb2NoVGltZSI6MTczNTE0OTY5OX19LCJSZXNvdXJjZSI6Imh0dHBzOi8vY2RuLWxmcy11cy0xLmhmLmNvL3JlcG9zL2RmL2I5L2RmYjk4ZGQ5ZjVmN2MyMjFlNjUzNzcwNTQ0ZjgyYWM4ZGUwMDQ0ZDFmNTJhYjcxYTFlNDJlZDFhMzMyYWUzNjUvNjFjZjNiN2UzMTg0ZjU3ZjJiYzJiZjVlNzVmYmNmMDhiYTM3OTI0MWY1ODk2NmM2MmE5NzE2ZWY1ODFiMjkxNj9yZXNwb25zZS1jb250ZW50LWRpc3Bvc2l0aW9uPSoifV19&Signature=Ga0HCs66ypHpIhhrE8DQ1ryaNGslfjof1hwnyMz5v2dGLFYAEi3luqmnFf1SK6yM1jedLFf3sGWeczQ4Novbb2W55a7Uyu1nuoHLLnO1rTfGj2xydO9XagIq9ZfVkia5-Yn5pfkn%7E6OgUV7YPECkDfBH1GOCdNasaxDcULQPoIpbTnSO22YE1H8nV8Qt5oOKND%7EfOW4c99%7EykQEMp8CaH1XkkJJxkITwIdIVVuAS-Jmd8ZK-P63HyKXJxaM4OGgCaxBPVNQw0RT1OqXQF0gLO1Rv%7ENY4YssbnlNU2A9pjAhoQ6soZ8nUkk9YYfOvos4OSUmoG53-q5wKwKx%7EX%7EOP%7Eg__&Key-Pair-Id=K24J24Z295AEI9 [following]\n",
            "--2024-12-22 18:01:39--  https://cdn-lfs-us-1.hf.co/repos/df/b9/dfb98dd9f5f7c221e653770544f82ac8de0044d1f52ab71a1e42ed1a332ae365/61cf3b7e3184f57f2bc2bf5e75fbcf08ba379241f58966c62a9716ef581b2916?response-content-disposition=inline%3B+filename*%3DUTF-8%27%27sprites_1788_16x16.npy%3B+filename%3D%22sprites_1788_16x16.npy%22%3B&Expires=1735149699&Policy=eyJTdGF0ZW1lbnQiOlt7IkNvbmRpdGlvbiI6eyJEYXRlTGVzc1RoYW4iOnsiQVdTOkVwb2NoVGltZSI6MTczNTE0OTY5OX19LCJSZXNvdXJjZSI6Imh0dHBzOi8vY2RuLWxmcy11cy0xLmhmLmNvL3JlcG9zL2RmL2I5L2RmYjk4ZGQ5ZjVmN2MyMjFlNjUzNzcwNTQ0ZjgyYWM4ZGUwMDQ0ZDFmNTJhYjcxYTFlNDJlZDFhMzMyYWUzNjUvNjFjZjNiN2UzMTg0ZjU3ZjJiYzJiZjVlNzVmYmNmMDhiYTM3OTI0MWY1ODk2NmM2MmE5NzE2ZWY1ODFiMjkxNj9yZXNwb25zZS1jb250ZW50LWRpc3Bvc2l0aW9uPSoifV19&Signature=Ga0HCs66ypHpIhhrE8DQ1ryaNGslfjof1hwnyMz5v2dGLFYAEi3luqmnFf1SK6yM1jedLFf3sGWeczQ4Novbb2W55a7Uyu1nuoHLLnO1rTfGj2xydO9XagIq9ZfVkia5-Yn5pfkn%7E6OgUV7YPECkDfBH1GOCdNasaxDcULQPoIpbTnSO22YE1H8nV8Qt5oOKND%7EfOW4c99%7EykQEMp8CaH1XkkJJxkITwIdIVVuAS-Jmd8ZK-P63HyKXJxaM4OGgCaxBPVNQw0RT1OqXQF0gLO1Rv%7ENY4YssbnlNU2A9pjAhoQ6soZ8nUkk9YYfOvos4OSUmoG53-q5wKwKx%7EX%7EOP%7Eg__&Key-Pair-Id=K24J24Z295AEI9\n",
            "Resolving cdn-lfs-us-1.hf.co (cdn-lfs-us-1.hf.co)... 18.155.68.50, 18.155.68.65, 18.155.68.103, ...\n",
            "Connecting to cdn-lfs-us-1.hf.co (cdn-lfs-us-1.hf.co)|18.155.68.50|:443... connected.\n",
            "HTTP request sent, awaiting response... 200 OK\n",
            "Length: 68659328 (65M) [binary/octet-stream]\n",
            "Saving to: ‘sprites_1788_16x16.npy’\n",
            "\n",
            "sprites_1788_16x16. 100%[===================>]  65.48M  41.1MB/s    in 1.6s    \n",
            "\n",
            "2024-12-22 18:01:41 (41.1 MB/s) - ‘sprites_1788_16x16.npy’ saved [68659328/68659328]\n",
            "\n",
            "--2024-12-22 18:01:41--  https://huggingface.co/datasets/ashis-palai/sprites_image_dataset/resolve/a24918819843abc0d1bee75a239024415081a87d/sprite_labels_nc_1788_16x16.npy\n",
            "Resolving huggingface.co (huggingface.co)... 13.33.45.10, 13.33.45.37, 13.33.45.68, ...\n",
            "Connecting to huggingface.co (huggingface.co)|13.33.45.10|:443... connected.\n",
            "HTTP request sent, awaiting response... 302 Found\n",
            "Location: https://cdn-lfs-us-1.hf.co/repos/df/b9/dfb98dd9f5f7c221e653770544f82ac8de0044d1f52ab71a1e42ed1a332ae365/b71222bd58b57cd99b1b92d830393e86ce215e0f69602f2c82aad1522f030ed7?response-content-disposition=inline%3B+filename*%3DUTF-8%27%27sprite_labels_nc_1788_16x16.npy%3B+filename%3D%22sprite_labels_nc_1788_16x16.npy%22%3B&Expires=1735149701&Policy=eyJTdGF0ZW1lbnQiOlt7IkNvbmRpdGlvbiI6eyJEYXRlTGVzc1RoYW4iOnsiQVdTOkVwb2NoVGltZSI6MTczNTE0OTcwMX19LCJSZXNvdXJjZSI6Imh0dHBzOi8vY2RuLWxmcy11cy0xLmhmLmNvL3JlcG9zL2RmL2I5L2RmYjk4ZGQ5ZjVmN2MyMjFlNjUzNzcwNTQ0ZjgyYWM4ZGUwMDQ0ZDFmNTJhYjcxYTFlNDJlZDFhMzMyYWUzNjUvYjcxMjIyYmQ1OGI1N2NkOTliMWI5MmQ4MzAzOTNlODZjZTIxNWUwZjY5NjAyZjJjODJhYWQxNTIyZjAzMGVkNz9yZXNwb25zZS1jb250ZW50LWRpc3Bvc2l0aW9uPSoifV19&Signature=GiCREnBhSdCcWyCLNtHdeUVZw4GrbFQTE4bOeruXsuvZ8wLv2TnML%7EMxEDKe2oDsuDjeL3CqISOK0fq%7EyBMWaNdtczC8FpnW9x%7ERFnEANy3%7EHuGSPgLsX8fQFMX73KUNomy8sWTvRYuaDJVSkfCqQrUUqD04D-eRIk%7EERwpwAjiBcXlmPSLaIOaYWjRIgx1ZR2qyRcNcF2ESrki4Z2-zV-bKtI4zyOE1Rr0YZN2%7EoUGcRm9Zlj3DRmHr2VqkUQrm9f0sGwOyPdEtBWqPK%7EMYHfYjMzCXXbnR1J-J81UrDokhC%7EIhIwr%7EgTJ5Q3a2ymkCXZxwQBirJTvWsZA0HRjpiw__&Key-Pair-Id=K24J24Z295AEI9 [following]\n",
            "--2024-12-22 18:01:41--  https://cdn-lfs-us-1.hf.co/repos/df/b9/dfb98dd9f5f7c221e653770544f82ac8de0044d1f52ab71a1e42ed1a332ae365/b71222bd58b57cd99b1b92d830393e86ce215e0f69602f2c82aad1522f030ed7?response-content-disposition=inline%3B+filename*%3DUTF-8%27%27sprite_labels_nc_1788_16x16.npy%3B+filename%3D%22sprite_labels_nc_1788_16x16.npy%22%3B&Expires=1735149701&Policy=eyJTdGF0ZW1lbnQiOlt7IkNvbmRpdGlvbiI6eyJEYXRlTGVzc1RoYW4iOnsiQVdTOkVwb2NoVGltZSI6MTczNTE0OTcwMX19LCJSZXNvdXJjZSI6Imh0dHBzOi8vY2RuLWxmcy11cy0xLmhmLmNvL3JlcG9zL2RmL2I5L2RmYjk4ZGQ5ZjVmN2MyMjFlNjUzNzcwNTQ0ZjgyYWM4ZGUwMDQ0ZDFmNTJhYjcxYTFlNDJlZDFhMzMyYWUzNjUvYjcxMjIyYmQ1OGI1N2NkOTliMWI5MmQ4MzAzOTNlODZjZTIxNWUwZjY5NjAyZjJjODJhYWQxNTIyZjAzMGVkNz9yZXNwb25zZS1jb250ZW50LWRpc3Bvc2l0aW9uPSoifV19&Signature=GiCREnBhSdCcWyCLNtHdeUVZw4GrbFQTE4bOeruXsuvZ8wLv2TnML%7EMxEDKe2oDsuDjeL3CqISOK0fq%7EyBMWaNdtczC8FpnW9x%7ERFnEANy3%7EHuGSPgLsX8fQFMX73KUNomy8sWTvRYuaDJVSkfCqQrUUqD04D-eRIk%7EERwpwAjiBcXlmPSLaIOaYWjRIgx1ZR2qyRcNcF2ESrki4Z2-zV-bKtI4zyOE1Rr0YZN2%7EoUGcRm9Zlj3DRmHr2VqkUQrm9f0sGwOyPdEtBWqPK%7EMYHfYjMzCXXbnR1J-J81UrDokhC%7EIhIwr%7EgTJ5Q3a2ymkCXZxwQBirJTvWsZA0HRjpiw__&Key-Pair-Id=K24J24Z295AEI9\n",
            "Resolving cdn-lfs-us-1.hf.co (cdn-lfs-us-1.hf.co)... 18.155.68.50, 18.155.68.65, 18.155.68.103, ...\n",
            "Connecting to cdn-lfs-us-1.hf.co (cdn-lfs-us-1.hf.co)|18.155.68.50|:443... connected.\n",
            "HTTP request sent, awaiting response... 200 OK\n",
            "Length: 3576128 (3.4M) [binary/octet-stream]\n",
            "Saving to: ‘sprite_labels_nc_1788_16x16.npy’\n",
            "\n",
            "sprite_labels_nc_17 100%[===================>]   3.41M  --.-KB/s    in 0.08s   \n",
            "\n",
            "2024-12-22 18:01:41 (41.4 MB/s) - ‘sprite_labels_nc_1788_16x16.npy’ saved [3576128/3576128]\n",
            "\n"
          ]
        }
      ]
    },
    {
      "cell_type": "code",
      "source": [
        "sprites_samples = np.load(\"/content/sprites_1788_16x16.npy\")[:20]\n",
        "num_rows = 4\n",
        "num_cols = 5\n",
        "fig, axes = plt.subplots(num_rows, num_cols, figsize=(5, 5))\n",
        "axes = axes.flatten()\n",
        "\n",
        "# Loop through each image and plot it\n",
        "for i in range(20):\n",
        "    image = sprites_samples[i]\n",
        "\n",
        "    # Plot the image in the appropriate subplot\n",
        "    axes[i].imshow(image)\n",
        "    axes[i].axis('off')  # Hide axis\n",
        "    axes[i].set_title(f'Image {i + 1}')  # Set title\n",
        "\n",
        "# Hide any unused subplots\n",
        "for j in range(20, num_rows * num_cols):\n",
        "    axes[j].axis('off')\n",
        "\n",
        "# Adjust layout\n",
        "plt.tight_layout()\n",
        "plt.show()"
      ],
      "metadata": {
        "colab": {
          "base_uri": "https://localhost:8080/",
          "height": 498
        },
        "id": "SROuckkX57sI",
        "outputId": "ceb6cf2c-67be-41bf-afd4-4c58acfbbb99"
      },
      "execution_count": null,
      "outputs": [
        {
          "output_type": "display_data",
          "data": {
            "text/plain": [
              "<Figure size 500x500 with 20 Axes>"
            ],
            "image/png": "[encoded data removed]"
          },
          "metadata": {}
        }
      ]
    },
    {
      "cell_type": "code",
      "execution_count": null,
      "metadata": {
        "id": "OTBLEE403p3O"
      },
      "outputs": [],
      "source": [
        "from torch.utils.data import Dataset\n",
        "class CustomDataset(Dataset):\n",
        "    def __init__(self, _sprites, _slabels, transform, null_context=False):\n",
        "        self.transform = transform\n",
        "        self.null_context = null_context\n",
        "        self.sprites = _sprites\n",
        "        self.slabels = _slabels\n",
        "        self.sprites_shape = self.sprites.shape\n",
        "        self.slabel_shape = self.slabels.shape\n",
        "\n",
        "    # Return the number of images in the dataset\n",
        "    def __len__(self):\n",
        "        return len(self.sprites)\n",
        "\n",
        "    # Get the image and label at a given index\n",
        "    def __getitem__(self, idx):\n",
        "        # Return the image and label as a tuple\n",
        "        if self.transform:\n",
        "            image = self.transform(self.sprites[idx])\n",
        "            if self.null_context:\n",
        "                label = torch.tensor(0).to(torch.int64)\n",
        "            else:\n",
        "                label = torch.tensor(self.slabels[idx]).to(torch.int64)\n",
        "        return image#, label)\n",
        "\n",
        "    def getshapes(self):\n",
        "        # return shapes of data and labels\n",
        "        return self.sprites_shape#, self.slabel_shape\n",
        "\n",
        "transform = transforms.Compose([\n",
        "    transforms.ToTensor(),                # from [0,255] to range [0.0,1.0]\n",
        "    transforms.Normalize((0.5,), (0.5,))  # range [-1,1]\n",
        "])"
      ]
    },
    {
      "cell_type": "code",
      "source": [
        "sprites = np.load(\"/content/sprites_1788_16x16.npy\")\n",
        "slabels = np.load(\"/content/sprite_labels_nc_1788_16x16.npy\")\n",
        "\n",
        "print(f\"sprite shape: {sprites.shape}\")\n",
        "print(f\"labels shape: {slabels.shape}\")\n",
        "\n",
        "\n",
        "train_sprites = sprites[:60000]\n",
        "train_slabels = slabels[:60000]\n",
        "val_sprites = sprites[60000:]\n",
        "val_slabels = slabels[60000:]"
      ],
      "metadata": {
        "id": "5H8Dyk-NlAu2",
        "colab": {
          "base_uri": "https://localhost:8080/"
        },
        "outputId": "8126c71f-7de3-444a-8624-76925a7fcea6"
      },
      "execution_count": null,
      "outputs": [
        {
          "output_type": "stream",
          "name": "stdout",
          "text": [
            "sprite shape: (89400, 16, 16, 3)\n",
            "labels shape: (89400, 5)\n"
          ]
        }
      ]
    },
    {
      "cell_type": "code",
      "source": [
        "# load dataset\n",
        "trian_dataset = CustomDataset(train_sprites, train_slabels, transform, null_context=False)\n",
        "train_dataloader = DataLoader(trian_dataset, batch_size=batch_size, shuffle=True, num_workers=1)\n",
        "\n",
        "# load dataset\n",
        "val_dataset = CustomDataset(val_sprites, val_slabels, transform, null_context=False)\n",
        "val_dataloader = DataLoader(val_dataset, batch_size=batch_size, shuffle=True, num_workers=1)"
      ],
      "metadata": {
        "id": "-es-xlHoLRJT"
      },
      "execution_count": null,
      "outputs": []
    },
    {
      "cell_type": "markdown",
      "metadata": {
        "id": "iHW_vnYh0E70"
      },
      "source": [
        "## UNet"
      ]
    },
    {
      "cell_type": "markdown",
      "source": [
        "So what model do we use to do this magical 'denoising' step? We've looked a little at basic convolutional neural networks that take in an image and output something like a classification. And we've seen autoencoders that go from an image down to a latent representation and back to an output image. Perhaps one of these would be suitable?"
      ],
      "metadata": {
        "id": "Dps83AqZAKvC"
      }
    },
    {
      "cell_type": "markdown",
      "source": [
        "![Screenshot from 2022-04-30 19-01-16.png](data:image/png;base64,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)\n",
        "\n",
        "(Unet diagram from [the 2015 paper](https://arxiv.org/abs/1505.04597))"
      ],
      "metadata": {
        "id": "ZZDy25DvALww"
      }
    },
    {
      "cell_type": "markdown",
      "source": [
        "One issue with a typical 'bottlekneck' architecture like an autoencoder is that by design they loose the details around exact pixel coordinates. To get around this, an architecture called the Unet was introduced. Originally designed for segmentation tasks, the architecture (shown above) passes information from high-resolution, early layers to later layers. These 'shortcuts' let the network use detailed features from the original image while also capturing more high-level semantic information from the deeper layers.\n",
        "\n",
        "These networks turned out to be great at all sorts of image-to-image tasks. Colorization , segmentation and so on. These days, typical unet models incorporate ideas such as attention and can be built around pretrained 'backbones' like resnet-50 for transfer learning tasks.\n",
        "\n",
        "The implementation below is a fairly typical modern Unet with one extra trick: a TimeEmbedding which encodes the time step (t) and lets the model use this as conditioning information by passing it in in the middle of the network. Take a peek at the code and see if you can figure out roughly what's going on in the forward pass.\n",
        "\n"
      ],
      "metadata": {
        "id": "-WBsCpm0AQiH"
      }
    },
    {
      "cell_type": "code",
      "source": [
        "class ResidualConvBlock(nn.Module):\n",
        "    def __init__(\n",
        "        self, in_channels: int, out_channels: int, is_res: bool = False\n",
        "    ) -> None:\n",
        "        super().__init__()\n",
        "\n",
        "        # Check if input and output channels are the same for the residual connection\n",
        "        self.same_channels = in_channels == out_channels\n",
        "\n",
        "        # Flag for whether or not to use residual connection\n",
        "        self.is_res = is_res\n",
        "\n",
        "        # First convolutional layer\n",
        "        self.conv1 = nn.Sequential(\n",
        "            nn.Conv2d(in_channels, out_channels, 3, 1, 1),   # 3x3 kernel with stride 1 and padding 1\n",
        "            nn.BatchNorm2d(out_channels),   # Batch normalization\n",
        "            nn.GELU(),   # GELU activation function\n",
        "        )\n",
        "\n",
        "        # Second convolutional layer\n",
        "        self.conv2 = nn.Sequential(\n",
        "            nn.Conv2d(out_channels, out_channels, 3, 1, 1),   # 3x3 kernel with stride 1 and padding 1\n",
        "            nn.BatchNorm2d(out_channels),   # Batch normalization\n",
        "            nn.GELU(),   # GELU activation function\n",
        "        )\n",
        "\n",
        "    def forward(self, x: torch.Tensor) -> torch.Tensor:\n",
        "\n",
        "        # If using residual connection\n",
        "        if self.is_res:\n",
        "            # Apply first convolutional layer\n",
        "            x1 = self.conv1(x)\n",
        "\n",
        "            # Apply second convolutional layer\n",
        "            x2 = self.conv2(x1)\n",
        "\n",
        "            # If input and output channels are the same, add residual connection directly\n",
        "            if self.same_channels:\n",
        "                out = x + x2\n",
        "            else:\n",
        "                # If not, apply a 1x1 convolutional layer to match dimensions before adding residual connection\n",
        "                shortcut = nn.Conv2d(x.shape[1], x2.shape[1], kernel_size=1, stride=1, padding=0).to(x.device)\n",
        "                out = shortcut(x) + x2\n",
        "            #print(f\"resconv forward: x {x.shape}, x1 {x1.shape}, x2 {x2.shape}, out {out.shape}\")\n",
        "\n",
        "            # Normalize output tensor\n",
        "            return out / 1.414\n",
        "\n",
        "        # If not using residual connection, return output of second convolutional layer\n",
        "        else:\n",
        "            x1 = self.conv1(x)\n",
        "            x2 = self.conv2(x1)\n",
        "            return x2\n",
        "\n",
        "    # Method to get the number of output channels for this block\n",
        "    def get_out_channels(self):\n",
        "        return self.conv2[0].out_channels\n",
        "\n",
        "    # Method to set the number of output channels for this block\n",
        "    def set_out_channels(self, out_channels):\n",
        "        self.conv1[0].out_channels = out_channels\n",
        "        self.conv2[0].in_channels = out_channels\n",
        "        self.conv2[0].out_channels = out_channels\n",
        "\n",
        "\n",
        "\n",
        "class UnetUp(nn.Module):\n",
        "    def __init__(self, in_channels, out_channels):\n",
        "        super(UnetUp, self).__init__()\n",
        "\n",
        "        # Create a list of layers for the upsampling block\n",
        "        # The block consists of a ConvTranspose2d layer for upsampling, followed by two ResidualConvBlock layers\n",
        "        layers = [\n",
        "            nn.ConvTranspose2d(in_channels, out_channels, 2, 2),\n",
        "            ResidualConvBlock(out_channels, out_channels),\n",
        "            ResidualConvBlock(out_channels, out_channels),\n",
        "        ]\n",
        "\n",
        "        # Use the layers to create a sequential model\n",
        "        self.model = nn.Sequential(*layers)\n",
        "\n",
        "    def forward(self, x, skip):\n",
        "        # Concatenate the input tensor x with the skip connection tensor along the channel dimension\n",
        "        x = torch.cat((x, skip), 1)\n",
        "\n",
        "        # Pass the concatenated tensor through the sequential model and return the output\n",
        "        x = self.model(x)\n",
        "        return x\n",
        "\n",
        "\n",
        "class UnetDown(nn.Module):\n",
        "    def __init__(self, in_channels, out_channels):\n",
        "        super(UnetDown, self).__init__()\n",
        "\n",
        "        # Create a list of layers for the downsampling block\n",
        "        # Each block consists of two ResidualConvBlock layers, followed by a MaxPool2d layer for downsampling\n",
        "        layers = [ResidualConvBlock(in_channels, out_channels), ResidualConvBlock(out_channels, out_channels), nn.MaxPool2d(2)]\n",
        "\n",
        "        # Use the layers to create a sequential model\n",
        "        self.model = nn.Sequential(*layers)\n",
        "\n",
        "    def forward(self, x):\n",
        "        # Pass the input through the sequential model and return the output\n",
        "        return self.model(x)\n",
        "\n",
        "class EmbedFC(nn.Module):\n",
        "    def __init__(self, input_dim, emb_dim):\n",
        "        super(EmbedFC, self).__init__()\n",
        "        '''\n",
        "        This class defines a generic one layer feed-forward neural network for embedding input data of\n",
        "        dimensionality input_dim to an embedding space of dimensionality emb_dim.\n",
        "        '''\n",
        "        self.input_dim = input_dim\n",
        "\n",
        "        # define the layers for the network\n",
        "        layers = [\n",
        "            nn.Linear(input_dim, emb_dim),\n",
        "            nn.GELU(),\n",
        "            nn.Linear(emb_dim, emb_dim),\n",
        "        ]\n",
        "\n",
        "        # create a PyTorch sequential model consisting of the defined layers\n",
        "        self.model = nn.Sequential(*layers)\n",
        "\n",
        "    def forward(self, x):\n",
        "        # flatten the input tensor\n",
        "        x = x.view(-1, self.input_dim)\n",
        "        # apply the model layers to the flattened tensor\n",
        "        return self.model(x)"
      ],
      "metadata": {
        "id": "HgJP1gqgs3Pc"
      },
      "execution_count": null,
      "outputs": []
    },
    {
      "cell_type": "code",
      "source": [
        "class Unet(nn.Module):\n",
        "    def __init__(self, in_channels, n_feat=256, n_cfeat=10, height=28):  # cfeat - context features\n",
        "        super(Unet, self).__init__()\n",
        "\n",
        "        # number of input channels, number of intermediate feature maps and number of classes\n",
        "        self.in_channels = in_channels\n",
        "        self.n_feat = n_feat\n",
        "        self.n_cfeat = n_cfeat\n",
        "        self.h = height  #assume h == w. must be divisible by 4, so 28,24,20,16...\n",
        "\n",
        "        # Initialize the initial convolutional layer\n",
        "        self.init_conv = ResidualConvBlock(in_channels, n_feat, is_res=True)\n",
        "\n",
        "        # Initialize the down-sampling path of the U-Net with two levels\n",
        "        self.down1 = UnetDown(n_feat, n_feat)        # down1 #[10, 256, 8, 8]\n",
        "        self.down2 = UnetDown(n_feat, 2 * n_feat)    # down2 #[10, 256, 4,  4]\n",
        "\n",
        "         # original: self.to_vec = nn.Sequential(nn.AvgPool2d(7), nn.GELU())\n",
        "        self.to_vec = nn.Sequential(nn.AvgPool2d((4)), nn.GELU())\n",
        "\n",
        "        # Embed the timestep and context labels with a one-layer fully connected neural network\n",
        "        self.timeembed1 = EmbedFC(1, 2*n_feat)\n",
        "        self.timeembed2 = EmbedFC(1, 1*n_feat)\n",
        "        self.contextembed1 = EmbedFC(n_cfeat, 2*n_feat)\n",
        "        self.contextembed2 = EmbedFC(n_cfeat, 1*n_feat)\n",
        "\n",
        "        # Initialize the up-sampling path of the U-Net with three levels\n",
        "        self.up0 = nn.Sequential(\n",
        "            nn.ConvTranspose2d(2 * n_feat, 2 * n_feat, self.h//4, self.h//4), # up-sample\n",
        "            nn.GroupNorm(8, 2 * n_feat), # normalize\n",
        "            nn.ReLU(),\n",
        "        )\n",
        "        self.up1 = UnetUp(4 * n_feat, n_feat)\n",
        "        self.up2 = UnetUp(2 * n_feat, n_feat)\n",
        "\n",
        "        # Initialize the final convolutional layers to map to the same number of channels as the input image\n",
        "        self.out = nn.Sequential(\n",
        "            nn.Conv2d(2 * n_feat, n_feat, 3, 1, 1), # reduce number of feature maps   #in_channels, out_channels, kernel_size, stride=1, padding=0\n",
        "            nn.GroupNorm(8, n_feat), # normalize\n",
        "            nn.ReLU(),\n",
        "            nn.Conv2d(n_feat, self.in_channels, 3, 1, 1), # map to same number of channels as input\n",
        "        )\n",
        "\n",
        "    def forward(self, x, t, c=None):\n",
        "        \"\"\"\n",
        "        x : (batch, n_feat, h, w) : input image\n",
        "        t : (batch, n_cfeat)      : time step\n",
        "        c : (batch, n_classes)    : context label\n",
        "        \"\"\"\n",
        "        # x is the input image, c is the context label, t is the timestep, context_mask says which samples to block the context on\n",
        "\n",
        "        # pass the input image through the initial convolutional layer\n",
        "        x = self.init_conv(x)\n",
        "        # pass the result through the down-sampling path\n",
        "        down1 = self.down1(x)       #[10, 256, 8, 8]\n",
        "        down2 = self.down2(down1)   #[10, 256, 4, 4]\n",
        "\n",
        "        # convert the feature maps to a vector and apply an activation\n",
        "        hiddenvec = self.to_vec(down2)\n",
        "\n",
        "        # mask out context if context_mask == 1\n",
        "        if c is None:\n",
        "            c = torch.zeros(x.shape[0], self.n_cfeat).to(x)\n",
        "\n",
        "        # embed context and timestep\n",
        "        cemb1 = self.contextembed1(c).view(-1, self.n_feat * 2, 1, 1)     # (batch, 2*n_feat, 1,1)\n",
        "        temb1 = self.timeembed1(t).view(-1, self.n_feat * 2, 1, 1)\n",
        "        cemb2 = self.contextembed2(c).view(-1, self.n_feat, 1, 1)\n",
        "        temb2 = self.timeembed2(t).view(-1, self.n_feat, 1, 1)\n",
        "        #print(f\"uunet forward: cemb1 {cemb1.shape}. temb1 {temb1.shape}, cemb2 {cemb2.shape}. temb2 {temb2.shape}\")\n",
        "\n",
        "\n",
        "        up1 = self.up0(hiddenvec)\n",
        "        up2 = self.up1(cemb1*up1 + temb1, down2)  # add and multiply embeddings\n",
        "        up3 = self.up2(cemb2*up2 + temb2, down1)\n",
        "        out = self.out(torch.cat((up3, x), 1))\n",
        "        return out"
      ],
      "metadata": {
        "id": "59ClAtAxtS8j"
      },
      "execution_count": null,
      "outputs": []
    },
    {
      "cell_type": "markdown",
      "metadata": {
        "id": "gOytP1ZO3Cre"
      },
      "source": [
        "## Training"
      ]
    },
    {
      "cell_type": "code",
      "execution_count": null,
      "metadata": {
        "id": "kH_sBD0V3dBS"
      },
      "outputs": [],
      "source": [
        "nn_model = Unet(in_channels=3, n_feat=n_feat, n_cfeat=n_cfeat, height=height).to(device)"
      ]
    },
    {
      "cell_type": "code",
      "execution_count": null,
      "metadata": {
        "id": "6Jx_jOD84Frp"
      },
      "outputs": [],
      "source": [
        "optimizer = torch.optim.Adam(nn_model.parameters(), lr=lrate)\n",
        "criterion = torch.nn.MSELoss()"
      ]
    },
    {
      "cell_type": "markdown",
      "source": [
        "We want to set up a \"**variance schedule**\" β, where $\\beta_t$ specifies how much noise we want to add at that step. You get fancy schedules but we'll stick with a linear one for now. \\\\\n",
        "At each time step t, the variance of the noise added to the previous step is predetermined by the variance schedule, and it's marked as $\\beta_t$, where 0 < $\\beta_1$ < $\\beta_t$ < $\\beta_2$ < 1."
      ],
      "metadata": {
        "id": "UTsrv0GI7M2b"
      }
    },
    {
      "cell_type": "code",
      "execution_count": null,
      "metadata": {
        "id": "W4vg2SXu3Bj7"
      },
      "outputs": [],
      "source": [
        "betas = torch.linspace(beta_start, beta_end, num_timesteps)\n",
        "alphas = 1. - betas\n",
        "alpha_cum_prod = torch.cumprod(alphas, dim=0)\n",
        "sqrt_alpha_cum_prod = torch.sqrt(alpha_cum_prod)\n",
        "sqrt_one_minus_alpha_cum_prod = torch.sqrt(1 - alpha_cum_prod)"
      ]
    },
    {
      "cell_type": "markdown",
      "source": [
        "## Forward - Noising\n"
      ],
      "metadata": {
        "id": "k4hic5CTRIjp"
      }
    },
    {
      "cell_type": "code",
      "execution_count": null,
      "metadata": {
        "id": "JJY-RE_t8feA"
      },
      "outputs": [],
      "source": [
        "def perturb_input (original, noise, t,sqrt_alpha_cum_prod=sqrt_alpha_cum_prod,sqrt_one_minus_alpha_cum_prod=sqrt_one_minus_alpha_cum_prod): #forward diffusion process (adding noise).\n",
        "    original_shape = original.shape\n",
        "    batch_size = original_shape[0]\n",
        "    # ¯α_t = ∏ α_i\n",
        "    sqrt_alpha_cum_prod = sqrt_alpha_cum_prod.to(original.device)[t].reshape(batch_size)\n",
        "    # 1- ¯α_t = 1- ∏ α_i\n",
        "    sqrt_one_minus_alpha_cum_prod = sqrt_one_minus_alpha_cum_prod.to(original.device)[t].reshape(batch_size)\n",
        "\n",
        "    # reshape till (B,) becomes (B,1,1,1) if image is (B,C,H,W)(Stretching for mat mul)\n",
        "    for _ in range(len(original_shape) - 1):\n",
        "        sqrt_alpha_cum_prod = sqrt_alpha_cum_prod.unsqueeze(-1)\n",
        "    for _ in range(len(original_shape) - 1):\n",
        "        sqrt_one_minus_alpha_cum_prod = sqrt_one_minus_alpha_cum_prod.unsqueeze(-1)\n",
        "\n",
        "    # Xt= sqrt(¯αt).X0 + sqrt(1-¯α_t).ϵ\n",
        "    return (sqrt_alpha_cum_prod.to(original.device)*original + sqrt_one_minus_alpha_cum_prod.to(original.device)*noise)"
      ]
    },
    {
      "cell_type": "code",
      "source": [
        "im.shape"
      ],
      "metadata": {
        "colab": {
          "base_uri": "https://localhost:8080/"
        },
        "id": "zxLdnfQP9THQ",
        "outputId": "4d59fffc-cc6e-4e07-de0c-6baa16b5e2c5"
      },
      "execution_count": null,
      "outputs": [
        {
          "output_type": "execute_result",
          "data": {
            "text/plain": [
              "torch.Size([100, 3, 16, 16])"
            ]
          },
          "metadata": {},
          "execution_count": 26
        }
      ]
    },
    {
      "cell_type": "markdown",
      "source": [
        "## Backward - Denoising"
      ],
      "metadata": {
        "id": "S7BHCkhcauIP"
      }
    },
    {
      "cell_type": "code",
      "source": [
        "def reverse(xt, noise_pred, t,eta=0.5,model_type=\"DDPM\"):#reverse diffusion process (denoising)\n",
        "  #X0≈ = ( x_t - √(1-¯α_t ).                                       ϵ_θ(x_t))   /  √(¯α_t )\n",
        "    x0 = ((xt - (sqrt_one_minus_alpha_cum_prod.to(xt.device)[t] * noise_pred)) / (sqrt_alpha_cum_prod.to(xt.device)[t]))\n",
        "    x0 = torch.clamp(x0, -1., 1.)\n",
        "   #x0: Estimated Clean Data\n",
        "\n",
        "    #   mean=  x_t -( (1-α_t)                  .ϵ_θ(x_t)     / √(1-(¯α_t )\n",
        "    mean = xt  -( (betas.to(xt.device)[t]) * noise_pred) / (sqrt_one_minus_alpha_cum_prod.to(xt.device)[t])\n",
        "    mean = mean / torch.sqrt(alphas.to(xt.device)[t]) #  / √(α_t )\n",
        "\n",
        "           #   (1-  ¯α_t-1)                              / (1   -¯α_t)\n",
        "    variance = (1 - alpha_cum_prod.to(xt.device)[t - 1]) / (1.0 - alpha_cum_prod.to(xt.device)[t])\n",
        "    variance = variance * betas.to(xt.device)[t] # *(1- α_t)\n",
        "    sigma = torch.sqrt(variance)   # √var\n",
        "\n",
        "    if model_type==\"DDPM\":\n",
        "        if t == 0:    return mean, x0\n",
        "        else:\n",
        "            z = torch.randn(xt.shape).to(xt.device)\n",
        "            x_t_1=(mean + sigma * z) #a noisy sample x_t-1\n",
        "\n",
        "    elif model_type==\"DDIM\" :\n",
        "        if eta > 0:\n",
        "            z = torch.randn_like(xt).to(xt.device)\n",
        "            x_t_1 =mean + sigma * eta * z\n",
        "        else:\n",
        "            x_t_1 = mean\n",
        "\n",
        "    return x_t_1, x0\n"
      ],
      "metadata": {
        "id": "M4a9Q3yia0VW"
      },
      "execution_count": null,
      "outputs": []
    },
    {
      "cell_type": "markdown",
      "source": [
        "## Train Diffsion"
      ],
      "metadata": {
        "id": "eCDLQe0PFsIQ"
      }
    },
    {
      "cell_type": "markdown",
      "source": [
        "Now that we have our 'diffusion model' defined, we need to train it to predict the noise given $x_t$ and $t$."
      ],
      "metadata": {
        "id": "rmtYx5kDA2CP"
      }
    },
    {
      "cell_type": "code",
      "source": [
        "# Train Model\n",
        "nn_model.train()\n",
        "train_loss_epoch=[]\n",
        "val_loss_epoch=[]\n",
        "for ep in range(n_epoch):\n",
        "    print(f'Epoch {ep}')\n",
        "    train_losses = []\n",
        "    # Training Loop\n",
        "    for im in tqdm(train_dataloader):\n",
        "        optimizer.zero_grad()\n",
        "        im = im.float().to(device)\n",
        "\n",
        "        noise = torch.randn_like(im).to(device)  # Sample random noise\n",
        "        t = torch.randint(0, num_timesteps, (im.shape[0],)).to(device)  # Sample timestep\n",
        "        noisy_image = perturb_input(im, noise, t)  # Add noise to images according to timestep\n",
        "        noise_pred = nn_model(noisy_image, t.float())\n",
        "\n",
        "        loss = criterion(noise_pred, noise)\n",
        "        train_losses.append(loss.item())\n",
        "        loss.backward()\n",
        "        optimizer.step()\n",
        "\n",
        "    # Log training loss\n",
        "    avg_train_loss = np.mean(train_losses)\n",
        "    train_loss_epoch.append(avg_train_loss)\n",
        "    print(f'  \\nEpoch: {ep + 1} | Training Loss: {avg_train_loss:.4f}')\n",
        "\n",
        "    # Validation Loop\n",
        "    nn_model.eval()\n",
        "    val_losses = []\n",
        "    with torch.no_grad():\n",
        "        for val_im in val_dataloader:\n",
        "            val_im = val_im.float().to(device)\n",
        "\n",
        "            noise = torch.randn_like(val_im).to(device)\n",
        "            t = torch.randint(0, num_timesteps, (val_im.shape[0],)).to(device)\n",
        "            noisy_val_im = perturb_input(val_im, noise, t)\n",
        "            noise_pred = nn_model(noisy_val_im, t.float())\n",
        "\n",
        "            val_loss = criterion(noise_pred, noise)\n",
        "            val_losses.append(val_loss.item())\n",
        "\n",
        "    # Log validation loss\n",
        "    avg_val_loss = np.mean(val_losses)\n",
        "    val_loss_epoch.append(avg_val_loss)\n",
        "    print(f'Validation Loss: {avg_val_loss:.4f}')\n",
        "\n",
        "    torch.save(nn_model.state_dict(), os.path.join(save_dir, f'Epoch_{ep}_checkpoint.pth'))\n",
        "\n",
        "print('Done Training ...')"
      ],
      "metadata": {
        "colab": {
          "base_uri": "https://localhost:8080/"
        },
        "id": "eRwL1PN1zqA_",
        "outputId": "7ff5df7a-0a07-4351-b35d-32c94cf6bc6c"
      },
      "execution_count": null,
      "outputs": [
        {
          "output_type": "stream",
          "name": "stdout",
          "text": [
            "Epoch 0\n"
          ]
        },
        {
          "output_type": "stream",
          "name": "stderr",
          "text": [
            "100%|██████████| 600/600 [00:22<00:00, 26.29it/s]"
          ]
        },
        {
          "output_type": "stream",
          "name": "stdout",
          "text": [
            "  \n",
            "Epoch: 1 | Training Loss: 0.2057\n"
          ]
        },
        {
          "output_type": "stream",
          "name": "stderr",
          "text": [
            "\n"
          ]
        },
        {
          "output_type": "stream",
          "name": "stdout",
          "text": [
            "Validation Loss: 0.1505\n",
            "Epoch 1\n"
          ]
        },
        {
          "output_type": "stream",
          "name": "stderr",
          "text": [
            "100%|██████████| 600/600 [00:21<00:00, 27.69it/s]"
          ]
        },
        {
          "output_type": "stream",
          "name": "stdout",
          "text": [
            "  \n",
            "Epoch: 2 | Training Loss: 0.1118\n"
          ]
        },
        {
          "output_type": "stream",
          "name": "stderr",
          "text": [
            "\n"
          ]
        },
        {
          "output_type": "stream",
          "name": "stdout",
          "text": [
            "Validation Loss: 0.0972\n",
            "Epoch 2\n"
          ]
        },
        {
          "output_type": "stream",
          "name": "stderr",
          "text": [
            "100%|██████████| 600/600 [00:20<00:00, 28.86it/s]"
          ]
        },
        {
          "output_type": "stream",
          "name": "stdout",
          "text": [
            "  \n",
            "Epoch: 3 | Training Loss: 0.0919\n"
          ]
        },
        {
          "output_type": "stream",
          "name": "stderr",
          "text": [
            "\n"
          ]
        },
        {
          "output_type": "stream",
          "name": "stdout",
          "text": [
            "Validation Loss: 0.0866\n",
            "Epoch 3\n"
          ]
        },
        {
          "output_type": "stream",
          "name": "stderr",
          "text": [
            "100%|██████████| 600/600 [00:20<00:00, 28.90it/s]"
          ]
        },
        {
          "output_type": "stream",
          "name": "stdout",
          "text": [
            "  \n",
            "Epoch: 4 | Training Loss: 0.0834\n"
          ]
        },
        {
          "output_type": "stream",
          "name": "stderr",
          "text": [
            "\n"
          ]
        },
        {
          "output_type": "stream",
          "name": "stdout",
          "text": [
            "Validation Loss: 0.0816\n",
            "Epoch 4\n"
          ]
        },
        {
          "output_type": "stream",
          "name": "stderr",
          "text": [
            "100%|██████████| 600/600 [00:20<00:00, 28.71it/s]"
          ]
        },
        {
          "output_type": "stream",
          "name": "stdout",
          "text": [
            "  \n",
            "Epoch: 5 | Training Loss: 0.0784\n"
          ]
        },
        {
          "output_type": "stream",
          "name": "stderr",
          "text": [
            "\n"
          ]
        },
        {
          "output_type": "stream",
          "name": "stdout",
          "text": [
            "Validation Loss: 0.0798\n",
            "Epoch 5\n"
          ]
        },
        {
          "output_type": "stream",
          "name": "stderr",
          "text": [
            "100%|██████████| 600/600 [00:22<00:00, 27.26it/s]"
          ]
        },
        {
          "output_type": "stream",
          "name": "stdout",
          "text": [
            "  \n",
            "Epoch: 6 | Training Loss: 0.0758\n"
          ]
        },
        {
          "output_type": "stream",
          "name": "stderr",
          "text": [
            "\n"
          ]
        },
        {
          "output_type": "stream",
          "name": "stdout",
          "text": [
            "Validation Loss: 0.0742\n",
            "Epoch 6\n"
          ]
        },
        {
          "output_type": "stream",
          "name": "stderr",
          "text": [
            "100%|██████████| 600/600 [00:22<00:00, 26.75it/s]"
          ]
        },
        {
          "output_type": "stream",
          "name": "stdout",
          "text": [
            "  \n",
            "Epoch: 7 | Training Loss: 0.0735\n"
          ]
        },
        {
          "output_type": "stream",
          "name": "stderr",
          "text": [
            "\n"
          ]
        },
        {
          "output_type": "stream",
          "name": "stdout",
          "text": [
            "Validation Loss: 0.0717\n",
            "Epoch 7\n"
          ]
        },
        {
          "output_type": "stream",
          "name": "stderr",
          "text": [
            "100%|██████████| 600/600 [00:21<00:00, 28.04it/s]"
          ]
        },
        {
          "output_type": "stream",
          "name": "stdout",
          "text": [
            "  \n",
            "Epoch: 8 | Training Loss: 0.0709\n"
          ]
        },
        {
          "output_type": "stream",
          "name": "stderr",
          "text": [
            "\n"
          ]
        },
        {
          "output_type": "stream",
          "name": "stdout",
          "text": [
            "Validation Loss: 0.0732\n",
            "Epoch 8\n"
          ]
        },
        {
          "output_type": "stream",
          "name": "stderr",
          "text": [
            "100%|██████████| 600/600 [00:20<00:00, 28.63it/s]"
          ]
        },
        {
          "output_type": "stream",
          "name": "stdout",
          "text": [
            "  \n",
            "Epoch: 9 | Training Loss: 0.0695\n"
          ]
        },
        {
          "output_type": "stream",
          "name": "stderr",
          "text": [
            "\n"
          ]
        },
        {
          "output_type": "stream",
          "name": "stdout",
          "text": [
            "Validation Loss: 0.0700\n",
            "Epoch 9\n"
          ]
        },
        {
          "output_type": "stream",
          "name": "stderr",
          "text": [
            "100%|██████████| 600/600 [00:20<00:00, 28.89it/s]"
          ]
        },
        {
          "output_type": "stream",
          "name": "stdout",
          "text": [
            "  \n",
            "Epoch: 10 | Training Loss: 0.0674\n"
          ]
        },
        {
          "output_type": "stream",
          "name": "stderr",
          "text": [
            "\n"
          ]
        },
        {
          "output_type": "stream",
          "name": "stdout",
          "text": [
            "Validation Loss: 0.0662\n",
            "Epoch 10\n"
          ]
        },
        {
          "output_type": "stream",
          "name": "stderr",
          "text": [
            "100%|██████████| 600/600 [00:20<00:00, 28.88it/s]"
          ]
        },
        {
          "output_type": "stream",
          "name": "stdout",
          "text": [
            "  \n",
            "Epoch: 11 | Training Loss: 0.0666\n"
          ]
        },
        {
          "output_type": "stream",
          "name": "stderr",
          "text": [
            "\n"
          ]
        },
        {
          "output_type": "stream",
          "name": "stdout",
          "text": [
            "Validation Loss: 0.0652\n",
            "Epoch 11\n"
          ]
        },
        {
          "output_type": "stream",
          "name": "stderr",
          "text": [
            "100%|██████████| 600/600 [00:21<00:00, 27.31it/s]"
          ]
        },
        {
          "output_type": "stream",
          "name": "stdout",
          "text": [
            "  \n",
            "Epoch: 12 | Training Loss: 0.0649\n"
          ]
        },
        {
          "output_type": "stream",
          "name": "stderr",
          "text": [
            "\n"
          ]
        },
        {
          "output_type": "stream",
          "name": "stdout",
          "text": [
            "Validation Loss: 0.0643\n",
            "Epoch 12\n"
          ]
        },
        {
          "output_type": "stream",
          "name": "stderr",
          "text": [
            "100%|██████████| 600/600 [00:21<00:00, 27.50it/s]"
          ]
        },
        {
          "output_type": "stream",
          "name": "stdout",
          "text": [
            "  \n",
            "Epoch: 13 | Training Loss: 0.0631\n"
          ]
        },
        {
          "output_type": "stream",
          "name": "stderr",
          "text": [
            "\n"
          ]
        },
        {
          "output_type": "stream",
          "name": "stdout",
          "text": [
            "Validation Loss: 0.0630\n",
            "Epoch 13\n"
          ]
        },
        {
          "output_type": "stream",
          "name": "stderr",
          "text": [
            "100%|██████████| 600/600 [00:20<00:00, 29.07it/s]"
          ]
        },
        {
          "output_type": "stream",
          "name": "stdout",
          "text": [
            "  \n",
            "Epoch: 14 | Training Loss: 0.0623\n"
          ]
        },
        {
          "output_type": "stream",
          "name": "stderr",
          "text": [
            "\n"
          ]
        },
        {
          "output_type": "stream",
          "name": "stdout",
          "text": [
            "Validation Loss: 0.0622\n",
            "Epoch 14\n"
          ]
        },
        {
          "output_type": "stream",
          "name": "stderr",
          "text": [
            "100%|██████████| 600/600 [00:20<00:00, 29.14it/s]"
          ]
        },
        {
          "output_type": "stream",
          "name": "stdout",
          "text": [
            "  \n",
            "Epoch: 15 | Training Loss: 0.0602\n"
          ]
        },
        {
          "output_type": "stream",
          "name": "stderr",
          "text": [
            "\n"
          ]
        },
        {
          "output_type": "stream",
          "name": "stdout",
          "text": [
            "Validation Loss: 0.0589\n",
            "Epoch 15\n"
          ]
        },
        {
          "output_type": "stream",
          "name": "stderr",
          "text": [
            "100%|██████████| 600/600 [00:20<00:00, 29.17it/s]"
          ]
        },
        {
          "output_type": "stream",
          "name": "stdout",
          "text": [
            "  \n",
            "Epoch: 16 | Training Loss: 0.0596\n"
          ]
        },
        {
          "output_type": "stream",
          "name": "stderr",
          "text": [
            "\n"
          ]
        },
        {
          "output_type": "stream",
          "name": "stdout",
          "text": [
            "Validation Loss: 0.0602\n",
            "Epoch 16\n"
          ]
        },
        {
          "output_type": "stream",
          "name": "stderr",
          "text": [
            "100%|██████████| 600/600 [00:21<00:00, 27.68it/s]"
          ]
        },
        {
          "output_type": "stream",
          "name": "stdout",
          "text": [
            "  \n",
            "Epoch: 17 | Training Loss: 0.0590\n"
          ]
        },
        {
          "output_type": "stream",
          "name": "stderr",
          "text": [
            "\n"
          ]
        },
        {
          "output_type": "stream",
          "name": "stdout",
          "text": [
            "Validation Loss: 0.0576\n",
            "Epoch 17\n"
          ]
        },
        {
          "output_type": "stream",
          "name": "stderr",
          "text": [
            "100%|██████████| 600/600 [00:22<00:00, 27.05it/s]"
          ]
        },
        {
          "output_type": "stream",
          "name": "stdout",
          "text": [
            "  \n",
            "Epoch: 18 | Training Loss: 0.0588\n"
          ]
        },
        {
          "output_type": "stream",
          "name": "stderr",
          "text": [
            "\n"
          ]
        },
        {
          "output_type": "stream",
          "name": "stdout",
          "text": [
            "Validation Loss: 0.0585\n",
            "Epoch 18\n"
          ]
        },
        {
          "output_type": "stream",
          "name": "stderr",
          "text": [
            "100%|██████████| 600/600 [00:20<00:00, 28.81it/s]"
          ]
        },
        {
          "output_type": "stream",
          "name": "stdout",
          "text": [
            "  \n",
            "Epoch: 19 | Training Loss: 0.0576\n"
          ]
        },
        {
          "output_type": "stream",
          "name": "stderr",
          "text": [
            "\n"
          ]
        },
        {
          "output_type": "stream",
          "name": "stdout",
          "text": [
            "Validation Loss: 0.0575\n",
            "Epoch 19\n"
          ]
        },
        {
          "output_type": "stream",
          "name": "stderr",
          "text": [
            "100%|██████████| 600/600 [00:20<00:00, 29.02it/s]"
          ]
        },
        {
          "output_type": "stream",
          "name": "stdout",
          "text": [
            "  \n",
            "Epoch: 20 | Training Loss: 0.0566\n"
          ]
        },
        {
          "output_type": "stream",
          "name": "stderr",
          "text": [
            "\n"
          ]
        },
        {
          "output_type": "stream",
          "name": "stdout",
          "text": [
            "Validation Loss: 0.0560\n",
            "Epoch 20\n"
          ]
        },
        {
          "output_type": "stream",
          "name": "stderr",
          "text": [
            "100%|██████████| 600/600 [00:20<00:00, 29.12it/s]"
          ]
        },
        {
          "output_type": "stream",
          "name": "stdout",
          "text": [
            "  \n",
            "Epoch: 21 | Training Loss: 0.0558\n"
          ]
        },
        {
          "output_type": "stream",
          "name": "stderr",
          "text": [
            "\n"
          ]
        },
        {
          "output_type": "stream",
          "name": "stdout",
          "text": [
            "Validation Loss: 0.0544\n",
            "Epoch 21\n"
          ]
        },
        {
          "output_type": "stream",
          "name": "stderr",
          "text": [
            "100%|██████████| 600/600 [00:21<00:00, 27.90it/s]"
          ]
        },
        {
          "output_type": "stream",
          "name": "stdout",
          "text": [
            "  \n",
            "Epoch: 22 | Training Loss: 0.0540\n"
          ]
        },
        {
          "output_type": "stream",
          "name": "stderr",
          "text": [
            "\n"
          ]
        },
        {
          "output_type": "stream",
          "name": "stdout",
          "text": [
            "Validation Loss: 0.0530\n",
            "Epoch 22\n"
          ]
        },
        {
          "output_type": "stream",
          "name": "stderr",
          "text": [
            "100%|██████████| 600/600 [00:22<00:00, 27.04it/s]"
          ]
        },
        {
          "output_type": "stream",
          "name": "stdout",
          "text": [
            "  \n",
            "Epoch: 23 | Training Loss: 0.0549\n"
          ]
        },
        {
          "output_type": "stream",
          "name": "stderr",
          "text": [
            "\n"
          ]
        },
        {
          "output_type": "stream",
          "name": "stdout",
          "text": [
            "Validation Loss: 0.0545\n",
            "Epoch 23\n"
          ]
        },
        {
          "output_type": "stream",
          "name": "stderr",
          "text": [
            "100%|██████████| 600/600 [00:20<00:00, 28.59it/s]"
          ]
        },
        {
          "output_type": "stream",
          "name": "stdout",
          "text": [
            "  \n",
            "Epoch: 24 | Training Loss: 0.0540\n"
          ]
        },
        {
          "output_type": "stream",
          "name": "stderr",
          "text": [
            "\n"
          ]
        },
        {
          "output_type": "stream",
          "name": "stdout",
          "text": [
            "Validation Loss: 0.0548\n",
            "Epoch 24\n"
          ]
        },
        {
          "output_type": "stream",
          "name": "stderr",
          "text": [
            "100%|██████████| 600/600 [00:20<00:00, 29.09it/s]"
          ]
        },
        {
          "output_type": "stream",
          "name": "stdout",
          "text": [
            "  \n",
            "Epoch: 25 | Training Loss: 0.0529\n"
          ]
        },
        {
          "output_type": "stream",
          "name": "stderr",
          "text": [
            "\n"
          ]
        },
        {
          "output_type": "stream",
          "name": "stdout",
          "text": [
            "Validation Loss: 0.0529\n",
            "Epoch 25\n"
          ]
        },
        {
          "output_type": "stream",
          "name": "stderr",
          "text": [
            "100%|██████████| 600/600 [00:20<00:00, 29.21it/s]"
          ]
        },
        {
          "output_type": "stream",
          "name": "stdout",
          "text": [
            "  \n",
            "Epoch: 26 | Training Loss: 0.0526\n"
          ]
        },
        {
          "output_type": "stream",
          "name": "stderr",
          "text": [
            "\n"
          ]
        },
        {
          "output_type": "stream",
          "name": "stdout",
          "text": [
            "Validation Loss: 0.0526\n",
            "Epoch 26\n"
          ]
        },
        {
          "output_type": "stream",
          "name": "stderr",
          "text": [
            "100%|██████████| 600/600 [00:21<00:00, 28.04it/s]"
          ]
        },
        {
          "output_type": "stream",
          "name": "stdout",
          "text": [
            "  \n",
            "Epoch: 27 | Training Loss: 0.0513\n"
          ]
        },
        {
          "output_type": "stream",
          "name": "stderr",
          "text": [
            "\n"
          ]
        },
        {
          "output_type": "stream",
          "name": "stdout",
          "text": [
            "Validation Loss: 0.0510\n",
            "Epoch 27\n"
          ]
        },
        {
          "output_type": "stream",
          "name": "stderr",
          "text": [
            "100%|██████████| 600/600 [00:22<00:00, 27.18it/s]"
          ]
        },
        {
          "output_type": "stream",
          "name": "stdout",
          "text": [
            "  \n",
            "Epoch: 28 | Training Loss: 0.0521\n"
          ]
        },
        {
          "output_type": "stream",
          "name": "stderr",
          "text": [
            "\n"
          ]
        },
        {
          "output_type": "stream",
          "name": "stdout",
          "text": [
            "Validation Loss: 0.0498\n",
            "Epoch 28\n"
          ]
        },
        {
          "output_type": "stream",
          "name": "stderr",
          "text": [
            "100%|██████████| 600/600 [00:20<00:00, 28.82it/s]"
          ]
        },
        {
          "output_type": "stream",
          "name": "stdout",
          "text": [
            "  \n",
            "Epoch: 29 | Training Loss: 0.0508\n"
          ]
        },
        {
          "output_type": "stream",
          "name": "stderr",
          "text": [
            "\n"
          ]
        },
        {
          "output_type": "stream",
          "name": "stdout",
          "text": [
            "Validation Loss: 0.0514\n",
            "Epoch 29\n"
          ]
        },
        {
          "output_type": "stream",
          "name": "stderr",
          "text": [
            "100%|██████████| 600/600 [00:20<00:00, 29.08it/s]"
          ]
        },
        {
          "output_type": "stream",
          "name": "stdout",
          "text": [
            "  \n",
            "Epoch: 30 | Training Loss: 0.0497\n"
          ]
        },
        {
          "output_type": "stream",
          "name": "stderr",
          "text": [
            "\n"
          ]
        },
        {
          "output_type": "stream",
          "name": "stdout",
          "text": [
            "Validation Loss: 0.0488\n",
            "Epoch 30\n"
          ]
        },
        {
          "output_type": "stream",
          "name": "stderr",
          "text": [
            "100%|██████████| 600/600 [00:20<00:00, 29.28it/s]"
          ]
        },
        {
          "output_type": "stream",
          "name": "stdout",
          "text": [
            "  \n",
            "Epoch: 31 | Training Loss: 0.0496\n"
          ]
        },
        {
          "output_type": "stream",
          "name": "stderr",
          "text": [
            "\n"
          ]
        },
        {
          "output_type": "stream",
          "name": "stdout",
          "text": [
            "Validation Loss: 0.0490\n",
            "Epoch 31\n"
          ]
        },
        {
          "output_type": "stream",
          "name": "stderr",
          "text": [
            "100%|██████████| 600/600 [00:21<00:00, 27.72it/s]"
          ]
        },
        {
          "output_type": "stream",
          "name": "stdout",
          "text": [
            "  \n",
            "Epoch: 32 | Training Loss: 0.0496\n"
          ]
        },
        {
          "output_type": "stream",
          "name": "stderr",
          "text": [
            "\n"
          ]
        },
        {
          "output_type": "stream",
          "name": "stdout",
          "text": [
            "Validation Loss: 0.0492\n",
            "Epoch 32\n"
          ]
        },
        {
          "output_type": "stream",
          "name": "stderr",
          "text": [
            "100%|██████████| 600/600 [00:21<00:00, 27.55it/s]"
          ]
        },
        {
          "output_type": "stream",
          "name": "stdout",
          "text": [
            "  \n",
            "Epoch: 33 | Training Loss: 0.0492\n"
          ]
        },
        {
          "output_type": "stream",
          "name": "stderr",
          "text": [
            "\n"
          ]
        },
        {
          "output_type": "stream",
          "name": "stdout",
          "text": [
            "Validation Loss: 0.0482\n",
            "Epoch 33\n"
          ]
        },
        {
          "output_type": "stream",
          "name": "stderr",
          "text": [
            "100%|██████████| 600/600 [00:20<00:00, 29.23it/s]"
          ]
        },
        {
          "output_type": "stream",
          "name": "stdout",
          "text": [
            "  \n",
            "Epoch: 34 | Training Loss: 0.0487\n"
          ]
        },
        {
          "output_type": "stream",
          "name": "stderr",
          "text": [
            "\n"
          ]
        },
        {
          "output_type": "stream",
          "name": "stdout",
          "text": [
            "Validation Loss: 0.0471\n",
            "Epoch 34\n"
          ]
        },
        {
          "output_type": "stream",
          "name": "stderr",
          "text": [
            "100%|██████████| 600/600 [00:20<00:00, 29.32it/s]"
          ]
        },
        {
          "output_type": "stream",
          "name": "stdout",
          "text": [
            "  \n",
            "Epoch: 35 | Training Loss: 0.0478\n"
          ]
        },
        {
          "output_type": "stream",
          "name": "stderr",
          "text": [
            "\n"
          ]
        },
        {
          "output_type": "stream",
          "name": "stdout",
          "text": [
            "Validation Loss: 0.0477\n",
            "Epoch 35\n"
          ]
        },
        {
          "output_type": "stream",
          "name": "stderr",
          "text": [
            "100%|██████████| 600/600 [00:20<00:00, 29.28it/s]"
          ]
        },
        {
          "output_type": "stream",
          "name": "stdout",
          "text": [
            "  \n",
            "Epoch: 36 | Training Loss: 0.0476\n"
          ]
        },
        {
          "output_type": "stream",
          "name": "stderr",
          "text": [
            "\n"
          ]
        },
        {
          "output_type": "stream",
          "name": "stdout",
          "text": [
            "Validation Loss: 0.0469\n",
            "Epoch 36\n"
          ]
        },
        {
          "output_type": "stream",
          "name": "stderr",
          "text": [
            "100%|██████████| 600/600 [00:21<00:00, 28.09it/s]"
          ]
        },
        {
          "output_type": "stream",
          "name": "stdout",
          "text": [
            "  \n",
            "Epoch: 37 | Training Loss: 0.0475\n"
          ]
        },
        {
          "output_type": "stream",
          "name": "stderr",
          "text": [
            "\n"
          ]
        },
        {
          "output_type": "stream",
          "name": "stdout",
          "text": [
            "Validation Loss: 0.0466\n",
            "Epoch 37\n"
          ]
        },
        {
          "output_type": "stream",
          "name": "stderr",
          "text": [
            "100%|██████████| 600/600 [00:21<00:00, 27.61it/s]"
          ]
        },
        {
          "output_type": "stream",
          "name": "stdout",
          "text": [
            "  \n",
            "Epoch: 38 | Training Loss: 0.0464\n"
          ]
        },
        {
          "output_type": "stream",
          "name": "stderr",
          "text": [
            "\n"
          ]
        },
        {
          "output_type": "stream",
          "name": "stdout",
          "text": [
            "Validation Loss: 0.0467\n",
            "Epoch 38\n"
          ]
        },
        {
          "output_type": "stream",
          "name": "stderr",
          "text": [
            "100%|██████████| 600/600 [00:20<00:00, 29.02it/s]"
          ]
        },
        {
          "output_type": "stream",
          "name": "stdout",
          "text": [
            "  \n",
            "Epoch: 39 | Training Loss: 0.0465\n"
          ]
        },
        {
          "output_type": "stream",
          "name": "stderr",
          "text": [
            "\n"
          ]
        },
        {
          "output_type": "stream",
          "name": "stdout",
          "text": [
            "Validation Loss: 0.0450\n",
            "Epoch 39\n"
          ]
        },
        {
          "output_type": "stream",
          "name": "stderr",
          "text": [
            "100%|██████████| 600/600 [00:20<00:00, 29.12it/s]"
          ]
        },
        {
          "output_type": "stream",
          "name": "stdout",
          "text": [
            "  \n",
            "Epoch: 40 | Training Loss: 0.0460\n"
          ]
        },
        {
          "output_type": "stream",
          "name": "stderr",
          "text": [
            "\n"
          ]
        },
        {
          "output_type": "stream",
          "name": "stdout",
          "text": [
            "Validation Loss: 0.0450\n",
            "Epoch 40\n"
          ]
        },
        {
          "output_type": "stream",
          "name": "stderr",
          "text": [
            "100%|██████████| 600/600 [00:20<00:00, 29.22it/s]"
          ]
        },
        {
          "output_type": "stream",
          "name": "stdout",
          "text": [
            "  \n",
            "Epoch: 41 | Training Loss: 0.0457\n"
          ]
        },
        {
          "output_type": "stream",
          "name": "stderr",
          "text": [
            "\n"
          ]
        },
        {
          "output_type": "stream",
          "name": "stdout",
          "text": [
            "Validation Loss: 0.0462\n",
            "Epoch 41\n"
          ]
        },
        {
          "output_type": "stream",
          "name": "stderr",
          "text": [
            "100%|██████████| 600/600 [00:21<00:00, 27.70it/s]"
          ]
        },
        {
          "output_type": "stream",
          "name": "stdout",
          "text": [
            "  \n",
            "Epoch: 42 | Training Loss: 0.0456\n"
          ]
        },
        {
          "output_type": "stream",
          "name": "stderr",
          "text": [
            "\n"
          ]
        },
        {
          "output_type": "stream",
          "name": "stdout",
          "text": [
            "Validation Loss: 0.0456\n",
            "Epoch 42\n"
          ]
        },
        {
          "output_type": "stream",
          "name": "stderr",
          "text": [
            "100%|██████████| 600/600 [00:21<00:00, 27.53it/s]"
          ]
        },
        {
          "output_type": "stream",
          "name": "stdout",
          "text": [
            "  \n",
            "Epoch: 43 | Training Loss: 0.0459\n"
          ]
        },
        {
          "output_type": "stream",
          "name": "stderr",
          "text": [
            "\n"
          ]
        },
        {
          "output_type": "stream",
          "name": "stdout",
          "text": [
            "Validation Loss: 0.0449\n",
            "Epoch 43\n"
          ]
        },
        {
          "output_type": "stream",
          "name": "stderr",
          "text": [
            "100%|██████████| 600/600 [00:20<00:00, 28.73it/s]"
          ]
        },
        {
          "output_type": "stream",
          "name": "stdout",
          "text": [
            "  \n",
            "Epoch: 44 | Training Loss: 0.0451\n"
          ]
        },
        {
          "output_type": "stream",
          "name": "stderr",
          "text": [
            "\n"
          ]
        },
        {
          "output_type": "stream",
          "name": "stdout",
          "text": [
            "Validation Loss: 0.0450\n",
            "Epoch 44\n"
          ]
        },
        {
          "output_type": "stream",
          "name": "stderr",
          "text": [
            "100%|██████████| 600/600 [00:20<00:00, 29.30it/s]"
          ]
        },
        {
          "output_type": "stream",
          "name": "stdout",
          "text": [
            "  \n",
            "Epoch: 45 | Training Loss: 0.0457\n"
          ]
        },
        {
          "output_type": "stream",
          "name": "stderr",
          "text": [
            "\n"
          ]
        },
        {
          "output_type": "stream",
          "name": "stdout",
          "text": [
            "Validation Loss: 0.0460\n",
            "Epoch 45\n"
          ]
        },
        {
          "output_type": "stream",
          "name": "stderr",
          "text": [
            "100%|██████████| 600/600 [00:20<00:00, 29.25it/s]"
          ]
        },
        {
          "output_type": "stream",
          "name": "stdout",
          "text": [
            "  \n",
            "Epoch: 46 | Training Loss: 0.0450\n"
          ]
        },
        {
          "output_type": "stream",
          "name": "stderr",
          "text": [
            "\n"
          ]
        },
        {
          "output_type": "stream",
          "name": "stdout",
          "text": [
            "Validation Loss: 0.0449\n",
            "Epoch 46\n"
          ]
        },
        {
          "output_type": "stream",
          "name": "stderr",
          "text": [
            "100%|██████████| 600/600 [00:21<00:00, 27.77it/s]"
          ]
        },
        {
          "output_type": "stream",
          "name": "stdout",
          "text": [
            "  \n",
            "Epoch: 47 | Training Loss: 0.0448\n"
          ]
        },
        {
          "output_type": "stream",
          "name": "stderr",
          "text": [
            "\n"
          ]
        },
        {
          "output_type": "stream",
          "name": "stdout",
          "text": [
            "Validation Loss: 0.0449\n",
            "Epoch 47\n"
          ]
        },
        {
          "output_type": "stream",
          "name": "stderr",
          "text": [
            "100%|██████████| 600/600 [00:21<00:00, 27.44it/s]"
          ]
        },
        {
          "output_type": "stream",
          "name": "stdout",
          "text": [
            "  \n",
            "Epoch: 48 | Training Loss: 0.0443\n"
          ]
        },
        {
          "output_type": "stream",
          "name": "stderr",
          "text": [
            "\n"
          ]
        },
        {
          "output_type": "stream",
          "name": "stdout",
          "text": [
            "Validation Loss: 0.0438\n",
            "Epoch 48\n"
          ]
        },
        {
          "output_type": "stream",
          "name": "stderr",
          "text": [
            "100%|██████████| 600/600 [00:20<00:00, 29.16it/s]\n"
          ]
        },
        {
          "output_type": "stream",
          "name": "stdout",
          "text": [
            "  \n",
            "Epoch: 49 | Training Loss: 0.0441\n",
            "Validation Loss: 0.0430\n",
            "Epoch 49\n"
          ]
        },
        {
          "output_type": "stream",
          "name": "stderr",
          "text": [
            "100%|██████████| 600/600 [00:20<00:00, 29.30it/s]"
          ]
        },
        {
          "output_type": "stream",
          "name": "stdout",
          "text": [
            "  \n",
            "Epoch: 50 | Training Loss: 0.0431\n"
          ]
        },
        {
          "output_type": "stream",
          "name": "stderr",
          "text": [
            "\n"
          ]
        },
        {
          "output_type": "stream",
          "name": "stdout",
          "text": [
            "Validation Loss: 0.0432\n",
            "Epoch 50\n"
          ]
        },
        {
          "output_type": "stream",
          "name": "stderr",
          "text": [
            "100%|██████████| 600/600 [00:20<00:00, 28.90it/s]"
          ]
        },
        {
          "output_type": "stream",
          "name": "stdout",
          "text": [
            "  \n",
            "Epoch: 51 | Training Loss: 0.0434\n"
          ]
        },
        {
          "output_type": "stream",
          "name": "stderr",
          "text": [
            "\n"
          ]
        },
        {
          "output_type": "stream",
          "name": "stdout",
          "text": [
            "Validation Loss: 0.0438\n",
            "Epoch 51\n"
          ]
        },
        {
          "output_type": "stream",
          "name": "stderr",
          "text": [
            "100%|██████████| 600/600 [00:21<00:00, 27.28it/s]"
          ]
        },
        {
          "output_type": "stream",
          "name": "stdout",
          "text": [
            "  \n",
            "Epoch: 52 | Training Loss: 0.0437\n"
          ]
        },
        {
          "output_type": "stream",
          "name": "stderr",
          "text": [
            "\n"
          ]
        },
        {
          "output_type": "stream",
          "name": "stdout",
          "text": [
            "Validation Loss: 0.0430\n",
            "Epoch 52\n"
          ]
        },
        {
          "output_type": "stream",
          "name": "stderr",
          "text": [
            "100%|██████████| 600/600 [00:21<00:00, 28.20it/s]"
          ]
        },
        {
          "output_type": "stream",
          "name": "stdout",
          "text": [
            "  \n",
            "Epoch: 53 | Training Loss: 0.0434\n"
          ]
        },
        {
          "output_type": "stream",
          "name": "stderr",
          "text": [
            "\n"
          ]
        },
        {
          "output_type": "stream",
          "name": "stdout",
          "text": [
            "Validation Loss: 0.0429\n",
            "Epoch 53\n"
          ]
        },
        {
          "output_type": "stream",
          "name": "stderr",
          "text": [
            "100%|██████████| 600/600 [00:20<00:00, 29.21it/s]"
          ]
        },
        {
          "output_type": "stream",
          "name": "stdout",
          "text": [
            "  \n",
            "Epoch: 54 | Training Loss: 0.0427\n"
          ]
        },
        {
          "output_type": "stream",
          "name": "stderr",
          "text": [
            "\n"
          ]
        },
        {
          "output_type": "stream",
          "name": "stdout",
          "text": [
            "Validation Loss: 0.0428\n",
            "Epoch 54\n"
          ]
        },
        {
          "output_type": "stream",
          "name": "stderr",
          "text": [
            "100%|██████████| 600/600 [00:20<00:00, 29.28it/s]"
          ]
        },
        {
          "output_type": "stream",
          "name": "stdout",
          "text": [
            "  \n",
            "Epoch: 55 | Training Loss: 0.0426\n"
          ]
        },
        {
          "output_type": "stream",
          "name": "stderr",
          "text": [
            "\n"
          ]
        },
        {
          "output_type": "stream",
          "name": "stdout",
          "text": [
            "Validation Loss: 0.0417\n",
            "Epoch 55\n"
          ]
        },
        {
          "output_type": "stream",
          "name": "stderr",
          "text": [
            "100%|██████████| 600/600 [00:21<00:00, 28.54it/s]"
          ]
        },
        {
          "output_type": "stream",
          "name": "stdout",
          "text": [
            "  \n",
            "Epoch: 56 | Training Loss: 0.0430\n"
          ]
        },
        {
          "output_type": "stream",
          "name": "stderr",
          "text": [
            "\n"
          ]
        },
        {
          "output_type": "stream",
          "name": "stdout",
          "text": [
            "Validation Loss: 0.0427\n",
            "Epoch 56\n"
          ]
        },
        {
          "output_type": "stream",
          "name": "stderr",
          "text": [
            "100%|██████████| 600/600 [00:21<00:00, 27.28it/s]"
          ]
        },
        {
          "output_type": "stream",
          "name": "stdout",
          "text": [
            "  \n",
            "Epoch: 57 | Training Loss: 0.0427\n"
          ]
        },
        {
          "output_type": "stream",
          "name": "stderr",
          "text": [
            "\n"
          ]
        },
        {
          "output_type": "stream",
          "name": "stdout",
          "text": [
            "Validation Loss: 0.0418\n",
            "Epoch 57\n"
          ]
        },
        {
          "output_type": "stream",
          "name": "stderr",
          "text": [
            "100%|██████████| 600/600 [00:20<00:00, 28.62it/s]"
          ]
        },
        {
          "output_type": "stream",
          "name": "stdout",
          "text": [
            "  \n",
            "Epoch: 58 | Training Loss: 0.0425\n"
          ]
        },
        {
          "output_type": "stream",
          "name": "stderr",
          "text": [
            "\n"
          ]
        },
        {
          "output_type": "stream",
          "name": "stdout",
          "text": [
            "Validation Loss: 0.0419\n",
            "Epoch 58\n"
          ]
        },
        {
          "output_type": "stream",
          "name": "stderr",
          "text": [
            "100%|██████████| 600/600 [00:20<00:00, 29.28it/s]"
          ]
        },
        {
          "output_type": "stream",
          "name": "stdout",
          "text": [
            "  \n",
            "Epoch: 59 | Training Loss: 0.0420\n"
          ]
        },
        {
          "output_type": "stream",
          "name": "stderr",
          "text": [
            "\n"
          ]
        },
        {
          "output_type": "stream",
          "name": "stdout",
          "text": [
            "Validation Loss: 0.0415\n",
            "Epoch 59\n"
          ]
        },
        {
          "output_type": "stream",
          "name": "stderr",
          "text": [
            "100%|██████████| 600/600 [00:20<00:00, 29.17it/s]"
          ]
        },
        {
          "output_type": "stream",
          "name": "stdout",
          "text": [
            "  \n",
            "Epoch: 60 | Training Loss: 0.0417\n"
          ]
        },
        {
          "output_type": "stream",
          "name": "stderr",
          "text": [
            "\n"
          ]
        },
        {
          "output_type": "stream",
          "name": "stdout",
          "text": [
            "Validation Loss: 0.0407\n",
            "Epoch 60\n"
          ]
        },
        {
          "output_type": "stream",
          "name": "stderr",
          "text": [
            "100%|██████████| 600/600 [00:21<00:00, 28.08it/s]"
          ]
        },
        {
          "output_type": "stream",
          "name": "stdout",
          "text": [
            "  \n",
            "Epoch: 61 | Training Loss: 0.0416\n"
          ]
        },
        {
          "output_type": "stream",
          "name": "stderr",
          "text": [
            "\n"
          ]
        },
        {
          "output_type": "stream",
          "name": "stdout",
          "text": [
            "Validation Loss: 0.0416\n",
            "Epoch 61\n"
          ]
        },
        {
          "output_type": "stream",
          "name": "stderr",
          "text": [
            "100%|██████████| 600/600 [00:22<00:00, 27.21it/s]"
          ]
        },
        {
          "output_type": "stream",
          "name": "stdout",
          "text": [
            "  \n",
            "Epoch: 62 | Training Loss: 0.0416\n"
          ]
        },
        {
          "output_type": "stream",
          "name": "stderr",
          "text": [
            "\n"
          ]
        },
        {
          "output_type": "stream",
          "name": "stdout",
          "text": [
            "Validation Loss: 0.0417\n",
            "Epoch 62\n"
          ]
        },
        {
          "output_type": "stream",
          "name": "stderr",
          "text": [
            "100%|██████████| 600/600 [00:20<00:00, 29.06it/s]"
          ]
        },
        {
          "output_type": "stream",
          "name": "stdout",
          "text": [
            "  \n",
            "Epoch: 63 | Training Loss: 0.0411\n"
          ]
        },
        {
          "output_type": "stream",
          "name": "stderr",
          "text": [
            "\n"
          ]
        },
        {
          "output_type": "stream",
          "name": "stdout",
          "text": [
            "Validation Loss: 0.0413\n",
            "Epoch 63\n"
          ]
        },
        {
          "output_type": "stream",
          "name": "stderr",
          "text": [
            "100%|██████████| 600/600 [00:20<00:00, 29.18it/s]"
          ]
        },
        {
          "output_type": "stream",
          "name": "stdout",
          "text": [
            "  \n",
            "Epoch: 64 | Training Loss: 0.0412\n"
          ]
        },
        {
          "output_type": "stream",
          "name": "stderr",
          "text": [
            "\n"
          ]
        },
        {
          "output_type": "stream",
          "name": "stdout",
          "text": [
            "Validation Loss: 0.0409\n",
            "Epoch 64\n"
          ]
        },
        {
          "output_type": "stream",
          "name": "stderr",
          "text": [
            "100%|██████████| 600/600 [00:20<00:00, 29.27it/s]"
          ]
        },
        {
          "output_type": "stream",
          "name": "stdout",
          "text": [
            "  \n",
            "Epoch: 65 | Training Loss: 0.0406\n"
          ]
        },
        {
          "output_type": "stream",
          "name": "stderr",
          "text": [
            "\n"
          ]
        },
        {
          "output_type": "stream",
          "name": "stdout",
          "text": [
            "Validation Loss: 0.0416\n",
            "Epoch 65\n"
          ]
        },
        {
          "output_type": "stream",
          "name": "stderr",
          "text": [
            "100%|██████████| 600/600 [00:21<00:00, 27.68it/s]"
          ]
        },
        {
          "output_type": "stream",
          "name": "stdout",
          "text": [
            "  \n",
            "Epoch: 66 | Training Loss: 0.0407\n"
          ]
        },
        {
          "output_type": "stream",
          "name": "stderr",
          "text": [
            "\n"
          ]
        },
        {
          "output_type": "stream",
          "name": "stdout",
          "text": [
            "Validation Loss: 0.0398\n",
            "Epoch 66\n"
          ]
        },
        {
          "output_type": "stream",
          "name": "stderr",
          "text": [
            "100%|██████████| 600/600 [00:21<00:00, 28.11it/s]"
          ]
        },
        {
          "output_type": "stream",
          "name": "stdout",
          "text": [
            "  \n",
            "Epoch: 67 | Training Loss: 0.0402\n"
          ]
        },
        {
          "output_type": "stream",
          "name": "stderr",
          "text": [
            "\n"
          ]
        },
        {
          "output_type": "stream",
          "name": "stdout",
          "text": [
            "Validation Loss: 0.0404\n",
            "Epoch 67\n"
          ]
        },
        {
          "output_type": "stream",
          "name": "stderr",
          "text": [
            "100%|██████████| 600/600 [00:20<00:00, 29.26it/s]"
          ]
        },
        {
          "output_type": "stream",
          "name": "stdout",
          "text": [
            "  \n",
            "Epoch: 68 | Training Loss: 0.0404\n"
          ]
        },
        {
          "output_type": "stream",
          "name": "stderr",
          "text": [
            "\n"
          ]
        },
        {
          "output_type": "stream",
          "name": "stdout",
          "text": [
            "Validation Loss: 0.0404\n",
            "Epoch 68\n"
          ]
        },
        {
          "output_type": "stream",
          "name": "stderr",
          "text": [
            "100%|██████████| 600/600 [00:20<00:00, 29.38it/s]"
          ]
        },
        {
          "output_type": "stream",
          "name": "stdout",
          "text": [
            "  \n",
            "Epoch: 69 | Training Loss: 0.0401\n"
          ]
        },
        {
          "output_type": "stream",
          "name": "stderr",
          "text": [
            "\n"
          ]
        },
        {
          "output_type": "stream",
          "name": "stdout",
          "text": [
            "Validation Loss: 0.0407\n",
            "Epoch 69\n"
          ]
        },
        {
          "output_type": "stream",
          "name": "stderr",
          "text": [
            "100%|██████████| 600/600 [00:20<00:00, 28.67it/s]"
          ]
        },
        {
          "output_type": "stream",
          "name": "stdout",
          "text": [
            "  \n",
            "Epoch: 70 | Training Loss: 0.0399\n"
          ]
        },
        {
          "output_type": "stream",
          "name": "stderr",
          "text": [
            "\n"
          ]
        },
        {
          "output_type": "stream",
          "name": "stdout",
          "text": [
            "Validation Loss: 0.0408\n",
            "Done Training ...\n"
          ]
        }
      ]
    },
    {
      "cell_type": "code",
      "source": [
        "plt.plot(np.arange(1,n_epoch+1),train_loss_epoch,c='red',label='Training Loss')\n",
        "plt.plot(np.arange(1,n_epoch+1),val_loss_epoch,c='blue',label='Validation Loss')\n",
        "plt.title(f'Train vs. Val loss over {n_epoch} epochs')\n",
        "plt.xlabel('Epochs')\n",
        "plt.ylabel('Loss')\n",
        "plt.legend()\n",
        "plt.show()"
      ],
      "metadata": {
        "colab": {
          "base_uri": "https://localhost:8080/",
          "height": 472
        },
        "id": "mnv_NYIxgLAc",
        "outputId": "e682a726-0e76-475a-f7ed-1a2258c49030"
      },
      "execution_count": null,
      "outputs": [
        {
          "output_type": "display_data",
          "data": {
            "text/plain": [
              "<Figure size 640x480 with 1 Axes>"
            ],
            "image/png": "[encoded data removed]"
          },
          "metadata": {}
        }
      ]
    },
    {
      "cell_type": "markdown",
      "source": [
        "## DDPM Sampling"
      ],
      "metadata": {
        "id": "agBLX4581Yuo"
      }
    },
    {
      "cell_type": "markdown",
      "source": [
        "![Screenshot 2024-11-13 191234.png](data:image/png;base64,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)"
      ],
      "metadata": {
        "id": "ZJ7wZkC5MRd5"
      }
    },
    {
      "cell_type": "markdown",
      "source": [
        "### plot_generated_images"
      ],
      "metadata": {
        "id": "QlF3EO3B1X0V"
      }
    },
    {
      "cell_type": "code",
      "source": [
        "def plot_generated_images(images, num_images=None, figsize=(8,8), normalize=True):\n",
        "    images = images[:num_images]\n",
        "    num_images=len(images)\n",
        "    if normalize:\n",
        "        images = (images + 1) / 2\n",
        "\n",
        "    images = images.permute(0, 2, 3, 1).cpu().detach().numpy()\n",
        "    grid_size = int(num_images ** 0.5)\n",
        "    fig, axes = plt.subplots(grid_size, grid_size, figsize=figsize)\n",
        "    for i, ax in enumerate(axes.flat):\n",
        "        if i < len(images):\n",
        "            ax.imshow(images[i])\n",
        "            ax.axis(\"off\")\n",
        "        else:  ax.axis(\"off\")\n",
        "\n",
        "    plt.tight_layout()\n",
        "    plt.show()"
      ],
      "metadata": {
        "id": "uYpLYU6e1YJl"
      },
      "execution_count": null,
      "outputs": []
    },
    {
      "cell_type": "markdown",
      "source": [
        "## generate images"
      ],
      "metadata": {
        "id": "rXlnYDDR1dcm"
      }
    },
    {
      "cell_type": "code",
      "source": [
        "def generate_images(model, num_images, num_timesteps, betas, alpha_cum_prod, sqrt_alpha_cum_prod, sqrt_one_minus_alpha_cum_prod, device,eta=0.8,model_type=\"DDPM\"):\n",
        "    model.eval()\n",
        "    generated_images = []\n",
        "    for _ in range(num_images):\n",
        "        xt = torch.randn((1, 3, 16,16)).to(device)  #Initialize Random noise image\n",
        "        for t in tqdm(range(num_timesteps-1, -1, -1)):  # T-1 -> 0\n",
        "            noise_pred = model(xt, torch.tensor([t]).float().to(device))  # Predict noise\n",
        "            if model_type==\"DDPM\":xt, _ = reverse(xt, noise_pred, t, model_type=\"DDPM\")         # Apply reverse process\n",
        "            elif model_type==\"DDIM\":xt, _ = reverse(xt, noise_pred, t, eta,model_type=\"DDIM\")   # Apply reverse process\n",
        "        generated_images.append(xt.cpu().detach())\n",
        "\n",
        "    generated_images = torch.cat(generated_images, dim=0)\n",
        "    return generated_images"
      ],
      "metadata": {
        "id": "Cf_tF4EF1Vd2"
      },
      "execution_count": null,
      "outputs": []
    },
    {
      "cell_type": "code",
      "source": [
        "num_images = 30\n",
        "generated_images = generate_images(nn_model, num_images, num_timesteps, betas, alpha_cum_prod, sqrt_alpha_cum_prod, sqrt_one_minus_alpha_cum_prod, device)\n",
        "plot_generated_images(generated_images)"
      ],
      "metadata": {
        "colab": {
          "base_uri": "https://localhost:8080/",
          "height": 1000
        },
        "id": "nNq0lEOn-Kok",
        "outputId": "46ea4d95-6403-4121-99c3-0579fe13d889"
      },
      "execution_count": null,
      "outputs": [
        {
          "output_type": "stream",
          "name": "stderr",
          "text": [
            "100%|██████████| 1000/1000 [00:05<00:00, 175.42it/s]\n",
            "100%|██████████| 1000/1000 [00:07<00:00, 137.25it/s]\n",
            "100%|██████████| 1000/1000 [00:05<00:00, 167.04it/s]\n",
            "100%|██████████| 1000/1000 [00:06<00:00, 146.35it/s]\n",
            "100%|██████████| 1000/1000 [00:06<00:00, 162.23it/s]\n",
            "100%|██████████| 1000/1000 [00:06<00:00, 156.32it/s]\n",
            "100%|██████████| 1000/1000 [00:06<00:00, 146.93it/s]\n",
            "100%|██████████| 1000/1000 [00:05<00:00, 170.00it/s]\n",
            "100%|██████████| 1000/1000 [00:07<00:00, 136.65it/s]\n",
            "100%|██████████| 1000/1000 [00:05<00:00, 168.81it/s]\n",
            "100%|██████████| 1000/1000 [00:07<00:00, 141.38it/s]\n",
            "100%|██████████| 1000/1000 [00:05<00:00, 169.88it/s]\n",
            "100%|██████████| 1000/1000 [00:07<00:00, 142.29it/s]\n",
            "100%|██████████| 1000/1000 [00:06<00:00, 163.49it/s]\n",
            "100%|██████████| 1000/1000 [00:06<00:00, 153.68it/s]\n",
            "100%|██████████| 1000/1000 [00:06<00:00, 147.81it/s]\n",
            "100%|██████████| 1000/1000 [00:05<00:00, 169.67it/s]\n",
            "100%|██████████| 1000/1000 [00:07<00:00, 138.34it/s]\n",
            "100%|██████████| 1000/1000 [00:05<00:00, 173.77it/s]\n",
            "100%|██████████| 1000/1000 [00:07<00:00, 138.65it/s]\n",
            "100%|██████████| 1000/1000 [00:05<00:00, 169.77it/s]\n",
            "100%|██████████| 1000/1000 [00:06<00:00, 143.01it/s]\n",
            "100%|██████████| 1000/1000 [00:06<00:00, 163.60it/s]\n",
            "100%|██████████| 1000/1000 [00:06<00:00, 158.29it/s]\n",
            "100%|██████████| 1000/1000 [00:06<00:00, 149.50it/s]\n",
            "100%|██████████| 1000/1000 [00:05<00:00, 170.29it/s]\n",
            "100%|██████████| 1000/1000 [00:07<00:00, 138.07it/s]\n",
            "100%|██████████| 1000/1000 [00:05<00:00, 167.40it/s]\n",
            "100%|██████████| 1000/1000 [00:07<00:00, 134.99it/s]\n",
            "100%|██████████| 1000/1000 [00:05<00:00, 166.91it/s]\n",
            "WARNING:matplotlib.image:Clipping input data to the valid range for imshow with RGB data ([0..1] for floats or [0..255] for integers).\n",
            "WARNING:matplotlib.image:Clipping input data to the valid range for imshow with RGB data ([0..1] for floats or [0..255] for integers).\n",
            "WARNING:matplotlib.image:Clipping input data to the valid range for imshow with RGB data ([0..1] for floats or [0..255] for integers).\n",
            "WARNING:matplotlib.image:Clipping input data to the valid range for imshow with RGB data ([0..1] for floats or [0..255] for integers).\n",
            "WARNING:matplotlib.image:Clipping input data to the valid range for imshow with RGB data ([0..1] for floats or [0..255] for integers).\n",
            "WARNING:matplotlib.image:Clipping input data to the valid range for imshow with RGB data ([0..1] for floats or [0..255] for integers).\n",
            "WARNING:matplotlib.image:Clipping input data to the valid range for imshow with RGB data ([0..1] for floats or [0..255] for integers).\n",
            "WARNING:matplotlib.image:Clipping input data to the valid range for imshow with RGB data ([0..1] for floats or [0..255] for integers).\n",
            "WARNING:matplotlib.image:Clipping input data to the valid range for imshow with RGB data ([0..1] for floats or [0..255] for integers).\n",
            "WARNING:matplotlib.image:Clipping input data to the valid range for imshow with RGB data ([0..1] for floats or [0..255] for integers).\n",
            "WARNING:matplotlib.image:Clipping input data to the valid range for imshow with RGB data ([0..1] for floats or [0..255] for integers).\n",
            "WARNING:matplotlib.image:Clipping input data to the valid range for imshow with RGB data ([0..1] for floats or [0..255] for integers).\n",
            "WARNING:matplotlib.image:Clipping input data to the valid range for imshow with RGB data ([0..1] for floats or [0..255] for integers).\n",
            "WARNING:matplotlib.image:Clipping input data to the valid range for imshow with RGB data ([0..1] for floats or [0..255] for integers).\n",
            "WARNING:matplotlib.image:Clipping input data to the valid range for imshow with RGB data ([0..1] for floats or [0..255] for integers).\n",
            "WARNING:matplotlib.image:Clipping input data to the valid range for imshow with RGB data ([0..1] for floats or [0..255] for integers).\n",
            "WARNING:matplotlib.image:Clipping input data to the valid range for imshow with RGB data ([0..1] for floats or [0..255] for integers).\n",
            "WARNING:matplotlib.image:Clipping input data to the valid range for imshow with RGB data ([0..1] for floats or [0..255] for integers).\n",
            "WARNING:matplotlib.image:Clipping input data to the valid range for imshow with RGB data ([0..1] for floats or [0..255] for integers).\n",
            "WARNING:matplotlib.image:Clipping input data to the valid range for imshow with RGB data ([0..1] for floats or [0..255] for integers).\n",
            "WARNING:matplotlib.image:Clipping input data to the valid range for imshow with RGB data ([0..1] for floats or [0..255] for integers).\n",
            "WARNING:matplotlib.image:Clipping input data to the valid range for imshow with RGB data ([0..1] for floats or [0..255] for integers).\n",
            "WARNING:matplotlib.image:Clipping input data to the valid range for imshow with RGB data ([0..1] for floats or [0..255] for integers).\n",
            "WARNING:matplotlib.image:Clipping input data to the valid range for imshow with RGB data ([0..1] for floats or [0..255] for integers).\n",
            "WARNING:matplotlib.image:Clipping input data to the valid range for imshow with RGB data ([0..1] for floats or [0..255] for integers).\n"
          ]
        },
        {
          "output_type": "display_data",
          "data": {
            "text/plain": [
              "<Figure size 800x800 with 25 Axes>"
            ],
            "image/png": "[encoded data removed]"
          },
          "metadata": {}
        }
      ]
    },
    {
      "cell_type": "code",
      "source": [
        "num_images = 50\n",
        "generated_images = generate_images(nn_model, num_images, num_timesteps, betas, alpha_cum_prod, sqrt_alpha_cum_prod, sqrt_one_minus_alpha_cum_prod, device)\n",
        "plot_generated_images(generated_images)"
      ],
      "metadata": {
        "colab": {
          "base_uri": "https://localhost:8080/",
          "height": 1000
        },
        "id": "T1MoTGUk8J_k",
        "outputId": "419b87c7-96ad-4e07-ea6d-dd9d418fb33e"
      },
      "execution_count": null,
      "outputs": [
        {
          "output_type": "stream",
          "name": "stderr",
          "text": [
            "100%|██████████| 1000/1000 [00:05<00:00, 179.44it/s]\n",
            "100%|██████████| 1000/1000 [00:07<00:00, 139.14it/s]\n",
            "100%|██████████| 1000/1000 [00:05<00:00, 168.62it/s]\n",
            "100%|██████████| 1000/1000 [00:06<00:00, 146.37it/s]\n",
            "100%|██████████| 1000/1000 [00:06<00:00, 153.62it/s]\n",
            "100%|██████████| 1000/1000 [00:06<00:00, 157.47it/s]\n",
            "100%|██████████| 1000/1000 [00:06<00:00, 144.57it/s]\n",
            "100%|██████████| 1000/1000 [00:05<00:00, 168.87it/s]\n",
            "100%|██████████| 1000/1000 [00:07<00:00, 136.34it/s]\n",
            "100%|██████████| 1000/1000 [00:05<00:00, 171.47it/s]\n",
            "100%|██████████| 1000/1000 [00:07<00:00, 137.24it/s]\n",
            "100%|██████████| 1000/1000 [00:06<00:00, 166.56it/s]\n",
            "100%|██████████| 1000/1000 [00:07<00:00, 140.81it/s]\n",
            "100%|██████████| 1000/1000 [00:06<00:00, 162.38it/s]\n",
            "100%|██████████| 1000/1000 [00:06<00:00, 154.82it/s]\n",
            "100%|██████████| 1000/1000 [00:06<00:00, 152.27it/s]\n",
            "100%|██████████| 1000/1000 [00:05<00:00, 170.11it/s]\n",
            "100%|██████████| 1000/1000 [00:07<00:00, 139.10it/s]\n",
            "100%|██████████| 1000/1000 [00:05<00:00, 169.91it/s]\n",
            "100%|██████████| 1000/1000 [00:07<00:00, 137.62it/s]\n",
            "100%|██████████| 1000/1000 [00:05<00:00, 169.38it/s]\n",
            "100%|██████████| 1000/1000 [00:06<00:00, 143.81it/s]\n",
            "100%|██████████| 1000/1000 [00:06<00:00, 164.96it/s]\n",
            "100%|██████████| 1000/1000 [00:06<00:00, 157.04it/s]\n",
            "100%|██████████| 1000/1000 [00:06<00:00, 145.65it/s]\n",
            "100%|██████████| 1000/1000 [00:05<00:00, 168.42it/s]\n",
            "100%|██████████| 1000/1000 [00:07<00:00, 137.92it/s]\n",
            "100%|██████████| 1000/1000 [00:05<00:00, 173.97it/s]\n",
            "100%|██████████| 1000/1000 [00:07<00:00, 136.89it/s]\n",
            "100%|██████████| 1000/1000 [00:05<00:00, 169.17it/s]\n",
            "100%|██████████| 1000/1000 [00:07<00:00, 141.68it/s]\n",
            "100%|██████████| 1000/1000 [00:06<00:00, 160.21it/s]\n",
            "100%|██████████| 1000/1000 [00:06<00:00, 154.20it/s]\n",
            "100%|██████████| 1000/1000 [00:06<00:00, 146.25it/s]\n",
            "100%|██████████| 1000/1000 [00:05<00:00, 174.13it/s]\n",
            "100%|██████████| 1000/1000 [00:07<00:00, 137.70it/s]\n",
            "100%|██████████| 1000/1000 [00:05<00:00, 169.39it/s]\n",
            "100%|██████████| 1000/1000 [00:07<00:00, 136.14it/s]\n",
            "100%|██████████| 1000/1000 [00:05<00:00, 168.07it/s]\n",
            "100%|██████████| 1000/1000 [00:07<00:00, 140.10it/s]\n",
            "100%|██████████| 1000/1000 [00:06<00:00, 164.26it/s]\n",
            "100%|██████████| 1000/1000 [00:06<00:00, 160.55it/s]\n",
            "100%|██████████| 1000/1000 [00:06<00:00, 146.86it/s]\n",
            "100%|██████████| 1000/1000 [00:05<00:00, 168.04it/s]\n",
            "100%|██████████| 1000/1000 [00:07<00:00, 136.33it/s]\n",
            "100%|██████████| 1000/1000 [00:05<00:00, 166.73it/s]\n",
            "100%|██████████| 1000/1000 [00:07<00:00, 136.32it/s]\n",
            "100%|██████████| 1000/1000 [00:05<00:00, 172.38it/s]\n",
            "100%|██████████| 1000/1000 [00:07<00:00, 139.65it/s]\n",
            "100%|██████████| 1000/1000 [00:06<00:00, 164.17it/s]\n",
            "WARNING:matplotlib.image:Clipping input data to the valid range for imshow with RGB data ([0..1] for floats or [0..255] for integers).\n",
            "WARNING:matplotlib.image:Clipping input data to the valid range for imshow with RGB data ([0..1] for floats or [0..255] for integers).\n",
            "WARNING:matplotlib.image:Clipping input data to the valid range for imshow with RGB data ([0..1] for floats or [0..255] for integers).\n",
            "WARNING:matplotlib.image:Clipping input data to the valid range for imshow with RGB data ([0..1] for floats or [0..255] for integers).\n",
            "WARNING:matplotlib.image:Clipping input data to the valid range for imshow with RGB data ([0..1] for floats or [0..255] for integers).\n",
            "WARNING:matplotlib.image:Clipping input data to the valid range for imshow with RGB data ([0..1] for floats or [0..255] for integers).\n",
            "WARNING:matplotlib.image:Clipping input data to the valid range for imshow with RGB data ([0..1] for floats or [0..255] for integers).\n",
            "WARNING:matplotlib.image:Clipping input data to the valid range for imshow with RGB data ([0..1] for floats or [0..255] for integers).\n",
            "WARNING:matplotlib.image:Clipping input data to the valid range for imshow with RGB data ([0..1] for floats or [0..255] for integers).\n",
            "WARNING:matplotlib.image:Clipping input data to the valid range for imshow with RGB data ([0..1] for floats or [0..255] for integers).\n",
            "WARNING:matplotlib.image:Clipping input data to the valid range for imshow with RGB data ([0..1] for floats or [0..255] for integers).\n",
            "WARNING:matplotlib.image:Clipping input data to the valid range for imshow with RGB data ([0..1] for floats or [0..255] for integers).\n",
            "WARNING:matplotlib.image:Clipping input data to the valid range for imshow with RGB data ([0..1] for floats or [0..255] for integers).\n",
            "WARNING:matplotlib.image:Clipping input data to the valid range for imshow with RGB data ([0..1] for floats or [0..255] for integers).\n",
            "WARNING:matplotlib.image:Clipping input data to the valid range for imshow with RGB data ([0..1] for floats or [0..255] for integers).\n",
            "WARNING:matplotlib.image:Clipping input data to the valid range for imshow with RGB data ([0..1] for floats or [0..255] for integers).\n",
            "WARNING:matplotlib.image:Clipping input data to the valid range for imshow with RGB data ([0..1] for floats or [0..255] for integers).\n",
            "WARNING:matplotlib.image:Clipping input data to the valid range for imshow with RGB data ([0..1] for floats or [0..255] for integers).\n",
            "WARNING:matplotlib.image:Clipping input data to the valid range for imshow with RGB data ([0..1] for floats or [0..255] for integers).\n",
            "WARNING:matplotlib.image:Clipping input data to the valid range for imshow with RGB data ([0..1] for floats or [0..255] for integers).\n",
            "WARNING:matplotlib.image:Clipping input data to the valid range for imshow with RGB data ([0..1] for floats or [0..255] for integers).\n",
            "WARNING:matplotlib.image:Clipping input data to the valid range for imshow with RGB data ([0..1] for floats or [0..255] for integers).\n",
            "WARNING:matplotlib.image:Clipping input data to the valid range for imshow with RGB data ([0..1] for floats or [0..255] for integers).\n",
            "WARNING:matplotlib.image:Clipping input data to the valid range for imshow with RGB data ([0..1] for floats or [0..255] for integers).\n",
            "WARNING:matplotlib.image:Clipping input data to the valid range for imshow with RGB data ([0..1] for floats or [0..255] for integers).\n",
            "WARNING:matplotlib.image:Clipping input data to the valid range for imshow with RGB data ([0..1] for floats or [0..255] for integers).\n",
            "WARNING:matplotlib.image:Clipping input data to the valid range for imshow with RGB data ([0..1] for floats or [0..255] for integers).\n",
            "WARNING:matplotlib.image:Clipping input data to the valid range for imshow with RGB data ([0..1] for floats or [0..255] for integers).\n",
            "WARNING:matplotlib.image:Clipping input data to the valid range for imshow with RGB data ([0..1] for floats or [0..255] for integers).\n",
            "WARNING:matplotlib.image:Clipping input data to the valid range for imshow with RGB data ([0..1] for floats or [0..255] for integers).\n",
            "WARNING:matplotlib.image:Clipping input data to the valid range for imshow with RGB data ([0..1] for floats or [0..255] for integers).\n",
            "WARNING:matplotlib.image:Clipping input data to the valid range for imshow with RGB data ([0..1] for floats or [0..255] for integers).\n",
            "WARNING:matplotlib.image:Clipping input data to the valid range for imshow with RGB data ([0..1] for floats or [0..255] for integers).\n",
            "WARNING:matplotlib.image:Clipping input data to the valid range for imshow with RGB data ([0..1] for floats or [0..255] for integers).\n",
            "WARNING:matplotlib.image:Clipping input data to the valid range for imshow with RGB data ([0..1] for floats or [0..255] for integers).\n",
            "WARNING:matplotlib.image:Clipping input data to the valid range for imshow with RGB data ([0..1] for floats or [0..255] for integers).\n",
            "WARNING:matplotlib.image:Clipping input data to the valid range for imshow with RGB data ([0..1] for floats or [0..255] for integers).\n",
            "WARNING:matplotlib.image:Clipping input data to the valid range for imshow with RGB data ([0..1] for floats or [0..255] for integers).\n",
            "WARNING:matplotlib.image:Clipping input data to the valid range for imshow with RGB data ([0..1] for floats or [0..255] for integers).\n",
            "WARNING:matplotlib.image:Clipping input data to the valid range for imshow with RGB data ([0..1] for floats or [0..255] for integers).\n",
            "WARNING:matplotlib.image:Clipping input data to the valid range for imshow with RGB data ([0..1] for floats or [0..255] for integers).\n",
            "WARNING:matplotlib.image:Clipping input data to the valid range for imshow with RGB data ([0..1] for floats or [0..255] for integers).\n",
            "WARNING:matplotlib.image:Clipping input data to the valid range for imshow with RGB data ([0..1] for floats or [0..255] for integers).\n",
            "WARNING:matplotlib.image:Clipping input data to the valid range for imshow with RGB data ([0..1] for floats or [0..255] for integers).\n",
            "WARNING:matplotlib.image:Clipping input data to the valid range for imshow with RGB data ([0..1] for floats or [0..255] for integers).\n",
            "WARNING:matplotlib.image:Clipping input data to the valid range for imshow with RGB data ([0..1] for floats or [0..255] for integers).\n",
            "WARNING:matplotlib.image:Clipping input data to the valid range for imshow with RGB data ([0..1] for floats or [0..255] for integers).\n",
            "WARNING:matplotlib.image:Clipping input data to the valid range for imshow with RGB data ([0..1] for floats or [0..255] for integers).\n",
            "WARNING:matplotlib.image:Clipping input data to the valid range for imshow with RGB data ([0..1] for floats or [0..255] for integers).\n"
          ]
        },
        {
          "output_type": "display_data",
          "data": {
            "text/plain": [
              "<Figure size 800x800 with 49 Axes>"
            ],
            "image/png": "[encoded data removed]"
          },
          "metadata": {}
        }
      ]
    },
    {
      "cell_type": "code",
      "source": [
        "num_images = 50\n",
        "generated_images = generate_images(nn_model, num_images, num_timesteps, betas, alpha_cum_prod, sqrt_alpha_cum_prod, sqrt_one_minus_alpha_cum_prod, device)\n",
        "plot_generated_images(generated_images)"
      ],
      "metadata": {
        "colab": {
          "base_uri": "https://localhost:8080/",
          "height": 1000
        },
        "collapsed": true,
        "id": "cgsty2wEqTor",
        "outputId": "b7417638-853c-4356-9ff7-d762356e7046"
      },
      "execution_count": null,
      "outputs": [
        {
          "output_type": "stream",
          "name": "stderr",
          "text": [
            "100%|██████████| 1000/1000 [00:05<00:00, 169.24it/s]\n",
            "100%|██████████| 1000/1000 [00:07<00:00, 139.39it/s]\n",
            "100%|██████████| 1000/1000 [00:05<00:00, 167.15it/s]\n",
            "100%|██████████| 1000/1000 [00:07<00:00, 138.88it/s]\n",
            "100%|██████████| 1000/1000 [00:06<00:00, 158.52it/s]\n",
            "100%|██████████| 1000/1000 [00:06<00:00, 152.60it/s]\n",
            "100%|██████████| 1000/1000 [00:06<00:00, 150.66it/s]\n",
            "100%|██████████| 1000/1000 [00:05<00:00, 167.26it/s]\n",
            "100%|██████████| 1000/1000 [00:07<00:00, 137.54it/s]\n",
            "100%|██████████| 1000/1000 [00:05<00:00, 168.11it/s]\n",
            "100%|██████████| 1000/1000 [00:07<00:00, 136.26it/s]\n",
            "100%|██████████| 1000/1000 [00:05<00:00, 167.27it/s]\n",
            "100%|██████████| 1000/1000 [00:07<00:00, 136.79it/s]\n",
            "100%|██████████| 1000/1000 [00:06<00:00, 165.94it/s]\n",
            "100%|██████████| 1000/1000 [00:06<00:00, 152.89it/s]\n",
            "100%|██████████| 1000/1000 [00:06<00:00, 149.48it/s]\n",
            "100%|██████████| 1000/1000 [00:06<00:00, 163.86it/s]\n",
            "100%|██████████| 1000/1000 [00:07<00:00, 139.37it/s]\n",
            "100%|██████████| 1000/1000 [00:05<00:00, 167.61it/s]\n",
            "100%|██████████| 1000/1000 [00:07<00:00, 136.68it/s]\n",
            "100%|██████████| 1000/1000 [00:05<00:00, 168.90it/s]\n",
            "100%|██████████| 1000/1000 [00:07<00:00, 138.97it/s]\n",
            "100%|██████████| 1000/1000 [00:05<00:00, 168.75it/s]\n",
            "100%|██████████| 1000/1000 [00:06<00:00, 152.42it/s]\n",
            "100%|██████████| 1000/1000 [00:06<00:00, 147.96it/s]\n",
            "100%|██████████| 1000/1000 [00:06<00:00, 163.43it/s]\n",
            "100%|██████████| 1000/1000 [00:06<00:00, 143.39it/s]\n",
            "100%|██████████| 1000/1000 [00:05<00:00, 168.17it/s]\n",
            "100%|██████████| 1000/1000 [00:07<00:00, 137.10it/s]\n",
            "100%|██████████| 1000/1000 [00:05<00:00, 169.78it/s]\n",
            "100%|██████████| 1000/1000 [00:07<00:00, 135.58it/s]\n",
            "100%|██████████| 1000/1000 [00:05<00:00, 167.15it/s]\n",
            "100%|██████████| 1000/1000 [00:06<00:00, 145.84it/s]\n",
            "100%|██████████| 1000/1000 [00:06<00:00, 159.64it/s]\n",
            "100%|██████████| 1000/1000 [00:06<00:00, 163.20it/s]\n",
            "100%|██████████| 1000/1000 [00:07<00:00, 141.98it/s]\n",
            "100%|██████████| 1000/1000 [00:05<00:00, 168.30it/s]\n",
            "100%|██████████| 1000/1000 [00:07<00:00, 136.89it/s]\n",
            "100%|██████████| 1000/1000 [00:05<00:00, 173.82it/s]\n",
            "100%|██████████| 1000/1000 [00:07<00:00, 135.88it/s]\n",
            "100%|██████████| 1000/1000 [00:05<00:00, 167.23it/s]\n",
            "100%|██████████| 1000/1000 [00:06<00:00, 147.79it/s]\n",
            "100%|██████████| 1000/1000 [00:06<00:00, 154.94it/s]\n",
            "100%|██████████| 1000/1000 [00:06<00:00, 158.40it/s]\n",
            "100%|██████████| 1000/1000 [00:07<00:00, 142.40it/s]\n",
            "100%|██████████| 1000/1000 [00:05<00:00, 169.80it/s]\n",
            "100%|██████████| 1000/1000 [00:07<00:00, 137.64it/s]\n",
            "100%|██████████| 1000/1000 [00:05<00:00, 169.85it/s]\n",
            "100%|██████████| 1000/1000 [00:07<00:00, 136.15it/s]\n",
            "100%|██████████| 1000/1000 [00:05<00:00, 168.15it/s]\n",
            "WARNING:matplotlib.image:Clipping input data to the valid range for imshow with RGB data ([0..1] for floats or [0..255] for integers).\n",
            "WARNING:matplotlib.image:Clipping input data to the valid range for imshow with RGB data ([0..1] for floats or [0..255] for integers).\n",
            "WARNING:matplotlib.image:Clipping input data to the valid range for imshow with RGB data ([0..1] for floats or [0..255] for integers).\n",
            "WARNING:matplotlib.image:Clipping input data to the valid range for imshow with RGB data ([0..1] for floats or [0..255] for integers).\n",
            "WARNING:matplotlib.image:Clipping input data to the valid range for imshow with RGB data ([0..1] for floats or [0..255] for integers).\n",
            "WARNING:matplotlib.image:Clipping input data to the valid range for imshow with RGB data ([0..1] for floats or [0..255] for integers).\n",
            "WARNING:matplotlib.image:Clipping input data to the valid range for imshow with RGB data ([0..1] for floats or [0..255] for integers).\n",
            "WARNING:matplotlib.image:Clipping input data to the valid range for imshow with RGB data ([0..1] for floats or [0..255] for integers).\n",
            "WARNING:matplotlib.image:Clipping input data to the valid range for imshow with RGB data ([0..1] for floats or [0..255] for integers).\n",
            "WARNING:matplotlib.image:Clipping input data to the valid range for imshow with RGB data ([0..1] for floats or [0..255] for integers).\n",
            "WARNING:matplotlib.image:Clipping input data to the valid range for imshow with RGB data ([0..1] for floats or [0..255] for integers).\n",
            "WARNING:matplotlib.image:Clipping input data to the valid range for imshow with RGB data ([0..1] for floats or [0..255] for integers).\n",
            "WARNING:matplotlib.image:Clipping input data to the valid range for imshow with RGB data ([0..1] for floats or [0..255] for integers).\n",
            "WARNING:matplotlib.image:Clipping input data to the valid range for imshow with RGB data ([0..1] for floats or [0..255] for integers).\n",
            "WARNING:matplotlib.image:Clipping input data to the valid range for imshow with RGB data ([0..1] for floats or [0..255] for integers).\n",
            "WARNING:matplotlib.image:Clipping input data to the valid range for imshow with RGB data ([0..1] for floats or [0..255] for integers).\n",
            "WARNING:matplotlib.image:Clipping input data to the valid range for imshow with RGB data ([0..1] for floats or [0..255] for integers).\n",
            "WARNING:matplotlib.image:Clipping input data to the valid range for imshow with RGB data ([0..1] for floats or [0..255] for integers).\n",
            "WARNING:matplotlib.image:Clipping input data to the valid range for imshow with RGB data ([0..1] for floats or [0..255] for integers).\n",
            "WARNING:matplotlib.image:Clipping input data to the valid range for imshow with RGB data ([0..1] for floats or [0..255] for integers).\n",
            "WARNING:matplotlib.image:Clipping input data to the valid range for imshow with RGB data ([0..1] for floats or [0..255] for integers).\n",
            "WARNING:matplotlib.image:Clipping input data to the valid range for imshow with RGB data ([0..1] for floats or [0..255] for integers).\n",
            "WARNING:matplotlib.image:Clipping input data to the valid range for imshow with RGB data ([0..1] for floats or [0..255] for integers).\n",
            "WARNING:matplotlib.image:Clipping input data to the valid range for imshow with RGB data ([0..1] for floats or [0..255] for integers).\n",
            "WARNING:matplotlib.image:Clipping input data to the valid range for imshow with RGB data ([0..1] for floats or [0..255] for integers).\n",
            "WARNING:matplotlib.image:Clipping input data to the valid range for imshow with RGB data ([0..1] for floats or [0..255] for integers).\n",
            "WARNING:matplotlib.image:Clipping input data to the valid range for imshow with RGB data ([0..1] for floats or [0..255] for integers).\n",
            "WARNING:matplotlib.image:Clipping input data to the valid range for imshow with RGB data ([0..1] for floats or [0..255] for integers).\n",
            "WARNING:matplotlib.image:Clipping input data to the valid range for imshow with RGB data ([0..1] for floats or [0..255] for integers).\n",
            "WARNING:matplotlib.image:Clipping input data to the valid range for imshow with RGB data ([0..1] for floats or [0..255] for integers).\n",
            "WARNING:matplotlib.image:Clipping input data to the valid range for imshow with RGB data ([0..1] for floats or [0..255] for integers).\n",
            "WARNING:matplotlib.image:Clipping input data to the valid range for imshow with RGB data ([0..1] for floats or [0..255] for integers).\n",
            "WARNING:matplotlib.image:Clipping input data to the valid range for imshow with RGB data ([0..1] for floats or [0..255] for integers).\n",
            "WARNING:matplotlib.image:Clipping input data to the valid range for imshow with RGB data ([0..1] for floats or [0..255] for integers).\n",
            "WARNING:matplotlib.image:Clipping input data to the valid range for imshow with RGB data ([0..1] for floats or [0..255] for integers).\n",
            "WARNING:matplotlib.image:Clipping input data to the valid range for imshow with RGB data ([0..1] for floats or [0..255] for integers).\n",
            "WARNING:matplotlib.image:Clipping input data to the valid range for imshow with RGB data ([0..1] for floats or [0..255] for integers).\n",
            "WARNING:matplotlib.image:Clipping input data to the valid range for imshow with RGB data ([0..1] for floats or [0..255] for integers).\n",
            "WARNING:matplotlib.image:Clipping input data to the valid range for imshow with RGB data ([0..1] for floats or [0..255] for integers).\n",
            "WARNING:matplotlib.image:Clipping input data to the valid range for imshow with RGB data ([0..1] for floats or [0..255] for integers).\n",
            "WARNING:matplotlib.image:Clipping input data to the valid range for imshow with RGB data ([0..1] for floats or [0..255] for integers).\n",
            "WARNING:matplotlib.image:Clipping input data to the valid range for imshow with RGB data ([0..1] for floats or [0..255] for integers).\n",
            "WARNING:matplotlib.image:Clipping input data to the valid range for imshow with RGB data ([0..1] for floats or [0..255] for integers).\n",
            "WARNING:matplotlib.image:Clipping input data to the valid range for imshow with RGB data ([0..1] for floats or [0..255] for integers).\n",
            "WARNING:matplotlib.image:Clipping input data to the valid range for imshow with RGB data ([0..1] for floats or [0..255] for integers).\n",
            "WARNING:matplotlib.image:Clipping input data to the valid range for imshow with RGB data ([0..1] for floats or [0..255] for integers).\n",
            "WARNING:matplotlib.image:Clipping input data to the valid range for imshow with RGB data ([0..1] for floats or [0..255] for integers).\n",
            "WARNING:matplotlib.image:Clipping input data to the valid range for imshow with RGB data ([0..1] for floats or [0..255] for integers).\n",
            "WARNING:matplotlib.image:Clipping input data to the valid range for imshow with RGB data ([0..1] for floats or [0..255] for integers).\n"
          ]
        },
        {
          "output_type": "display_data",
          "data": {
            "text/plain": [
              "<Figure size 800x800 with 49 Axes>"
            ],
            "image/png": "[encoded data removed]"
          },
          "metadata": {}
        }
      ]
    },
    {
      "cell_type": "code",
      "source": [
        "!pip install pytorch-fid"
      ],
      "metadata": {
        "colab": {
          "base_uri": "https://localhost:8080/"
        },
        "collapsed": true,
        "id": "ywfxmJQBqYbe",
        "outputId": "e5d57495-5a04-4ac2-99a7-c5588077de22"
      },
      "execution_count": null,
      "outputs": [
        {
          "output_type": "stream",
          "name": "stdout",
          "text": [
            "Collecting pytorch-fid\n",
            "  Downloading pytorch_fid-0.3.0-py3-none-any.whl.metadata (5.3 kB)\n",
            "Requirement already satisfied: numpy in /usr/local/lib/python3.10/dist-packages (from pytorch-fid) (1.26.4)\n",
            "Requirement already satisfied: pillow in /usr/local/lib/python3.10/dist-packages (from pytorch-fid) (11.0.0)\n",
            "Requirement already satisfied: scipy in /usr/local/lib/python3.10/dist-packages (from pytorch-fid) (1.13.1)\n",
            "Requirement already satisfied: torch>=1.0.1 in /usr/local/lib/python3.10/dist-packages (from pytorch-fid) (2.5.1+cu121)\n",
            "Requirement already satisfied: torchvision>=0.2.2 in /usr/local/lib/python3.10/dist-packages (from pytorch-fid) (0.20.1+cu121)\n",
            "Requirement already satisfied: filelock in /usr/local/lib/python3.10/dist-packages (from torch>=1.0.1->pytorch-fid) (3.16.1)\n",
            "Requirement already satisfied: typing-extensions>=4.8.0 in /usr/local/lib/python3.10/dist-packages (from torch>=1.0.1->pytorch-fid) (4.12.2)\n",
            "Requirement already satisfied: networkx in /usr/local/lib/python3.10/dist-packages (from torch>=1.0.1->pytorch-fid) (3.4.2)\n",
            "Requirement already satisfied: jinja2 in /usr/local/lib/python3.10/dist-packages (from torch>=1.0.1->pytorch-fid) (3.1.4)\n",
            "Requirement already satisfied: fsspec in /usr/local/lib/python3.10/dist-packages (from torch>=1.0.1->pytorch-fid) (2024.10.0)\n",
            "Requirement already satisfied: sympy==1.13.1 in /usr/local/lib/python3.10/dist-packages (from torch>=1.0.1->pytorch-fid) (1.13.1)\n",
            "Requirement already satisfied: mpmath<1.4,>=1.1.0 in /usr/local/lib/python3.10/dist-packages (from sympy==1.13.1->torch>=1.0.1->pytorch-fid) (1.3.0)\n",
            "Requirement already satisfied: MarkupSafe>=2.0 in /usr/local/lib/python3.10/dist-packages (from jinja2->torch>=1.0.1->pytorch-fid) (3.0.2)\n",
            "Downloading pytorch_fid-0.3.0-py3-none-any.whl (15 kB)\n",
            "Installing collected packages: pytorch-fid\n",
            "Successfully installed pytorch-fid-0.3.0\n"
          ]
        }
      ]
    },
    {
      "cell_type": "code",
      "source": [
        "from pytorch_fid import fid_score\n",
        "from pytorch_fid.inception import InceptionV3\n",
        "transform = transforms.Compose([\n",
        "    transforms.Resize((16,16)),\n",
        "    transforms.ToTensor(),\n",
        "    transforms.Normalize(mean=[0.5, 0.5, 0.5], std=[0.5, 0.5, 0.5])  ])\n",
        "\n",
        "real_images = train_dataloader\n",
        "os.makedirs('generated_images', exist_ok=True)\n",
        "os.makedirs('real_images', exist_ok=True)\n",
        "\n",
        "for i, img in enumerate(generated_images):\n",
        "    img= transforms.ToPILImage()(img.squeeze(0))\n",
        "    img.save(f'generated_images/img_{i}.png')\n",
        "for i, real_img_batch in enumerate(real_images):\n",
        "    for j, real_img in enumerate(real_img_batch):\n",
        "        img= transforms.ToPILImage()(real_img.squeeze(0))\n",
        "        img.save(f'real_images/img_{i * len(real_img_batch) + j}.png')"
      ],
      "metadata": {
        "collapsed": true,
        "id": "HpO4Jtv3qYYm"
      },
      "execution_count": null,
      "outputs": []
    },
    {
      "cell_type": "markdown",
      "source": [
        "### DDPM samples-FID"
      ],
      "metadata": {
        "id": "GUo9buds2III"
      }
    },
    {
      "cell_type": "code",
      "source": [
        "fid_value = fid_score.calculate_fid_given_paths(['generated_images','real_images'],batch_size=50, device='cuda',dims=64)\n",
        "print(f'FID Score: {fid_value}')"
      ],
      "metadata": {
        "colab": {
          "base_uri": "https://localhost:8080/"
        },
        "id": "uPJTepudqYVw",
        "outputId": "0178b9fd-5746-46d3-f7d5-c6ea3dfffa89"
      },
      "execution_count": null,
      "outputs": [
        {
          "output_type": "stream",
          "name": "stderr",
          "text": [
            "100%|██████████| 1/1 [00:00<00:00,  5.16it/s]\n",
            "100%|██████████| 1200/1200 [00:48<00:00, 24.78it/s]\n"
          ]
        },
        {
          "output_type": "stream",
          "name": "stdout",
          "text": [
            "FID Score: 2.685545444775788\n"
          ]
        }
      ]
    },
    {
      "cell_type": "markdown",
      "source": [
        "### DDIM samples-FID"
      ],
      "metadata": {
        "id": "zelwmBMD2PX7"
      }
    },
    {
      "cell_type": "code",
      "source": [
        "fid_value = fid_score.calculate_fid_given_paths(['generated_images', 'real_images'], batch_size=50, device='cuda', dims=64)\n",
        "print(f'FID Score: {fid_value}')"
      ],
      "metadata": {
        "colab": {
          "base_uri": "https://localhost:8080/"
        },
        "outputId": "18a53d1d-d1d0-4279-9bda-e33cacbf157c",
        "id": "BswqK8Gv2PX8"
      },
      "execution_count": null,
      "outputs": [
        {
          "output_type": "stream",
          "name": "stderr",
          "text": [
            "100%|██████████| 1/1 [00:00<00:00,  5.88it/s]\n",
            "100%|██████████| 1200/1200 [00:48<00:00, 24.90it/s]"
          ]
        },
        {
          "output_type": "stream",
          "name": "stdout",
          "text": [
            "FID Score: 9.884496021709056\n"
          ]
        },
        {
          "output_type": "stream",
          "name": "stderr",
          "text": [
            "\n"
          ]
        }
      ]
    },
    {
      "cell_type": "markdown",
      "source": [
        "## Generate images - DDIM"
      ],
      "metadata": {
        "id": "f451pJjd_jaz"
      }
    },
    {
      "cell_type": "code",
      "source": [
        "num_images = 50\n",
        "generated_images =  generate_images(nn_model, num_images, num_timesteps,\n",
        "                                    betas, alpha_cum_prod, sqrt_alpha_cum_prod,\n",
        "                                    sqrt_one_minus_alpha_cum_prod, device,model_type=\"DDIM\",eta=0.8 )\n",
        "plot_generated_images(generated_images)"
      ],
      "metadata": {
        "colab": {
          "base_uri": "https://localhost:8080/",
          "height": 1000
        },
        "id": "2eLJTx1T_n_a",
        "outputId": "a76896f1-e8b7-4fcd-9928-7d26cbacab63"
      },
      "execution_count": null,
      "outputs": [
        {
          "output_type": "stream",
          "name": "stderr",
          "text": [
            "100%|██████████| 1000/1000 [00:06<00:00, 144.08it/s]\n",
            "100%|██████████| 1000/1000 [00:05<00:00, 168.98it/s]\n",
            "100%|██████████| 1000/1000 [00:07<00:00, 139.43it/s]\n",
            "100%|██████████| 1000/1000 [00:05<00:00, 172.17it/s]\n",
            "100%|██████████| 1000/1000 [00:06<00:00, 158.77it/s]\n",
            "100%|██████████| 1000/1000 [00:06<00:00, 153.58it/s]\n",
            "100%|██████████| 1000/1000 [00:05<00:00, 170.90it/s]\n",
            "100%|██████████| 1000/1000 [00:07<00:00, 139.45it/s]\n",
            "100%|██████████| 1000/1000 [00:05<00:00, 172.28it/s]\n",
            "100%|██████████| 1000/1000 [00:07<00:00, 139.60it/s]\n",
            "100%|██████████| 1000/1000 [00:05<00:00, 176.44it/s]\n",
            "100%|██████████| 1000/1000 [00:06<00:00, 145.14it/s]\n",
            "100%|██████████| 1000/1000 [00:06<00:00, 161.96it/s]\n",
            "100%|██████████| 1000/1000 [00:06<00:00, 160.58it/s]\n",
            "100%|██████████| 1000/1000 [00:06<00:00, 148.83it/s]\n",
            "100%|██████████| 1000/1000 [00:05<00:00, 171.81it/s]\n",
            "100%|██████████| 1000/1000 [00:06<00:00, 142.93it/s]\n",
            "100%|██████████| 1000/1000 [00:05<00:00, 172.74it/s]\n",
            "100%|██████████| 1000/1000 [00:07<00:00, 140.38it/s]\n",
            "100%|██████████| 1000/1000 [00:05<00:00, 172.42it/s]\n",
            "100%|██████████| 1000/1000 [00:06<00:00, 151.02it/s]\n",
            "100%|██████████| 1000/1000 [00:06<00:00, 158.08it/s]\n",
            "100%|██████████| 1000/1000 [00:05<00:00, 173.28it/s]\n",
            "100%|██████████| 1000/1000 [00:07<00:00, 142.28it/s]\n",
            "100%|██████████| 1000/1000 [00:05<00:00, 172.80it/s]\n",
            "100%|██████████| 1000/1000 [00:07<00:00, 141.32it/s]\n",
            "100%|██████████| 1000/1000 [00:05<00:00, 170.85it/s]\n",
            "100%|██████████| 1000/1000 [00:07<00:00, 141.15it/s]\n",
            "100%|██████████| 1000/1000 [00:05<00:00, 168.87it/s]\n",
            "100%|██████████| 1000/1000 [00:06<00:00, 164.61it/s]\n",
            "100%|██████████| 1000/1000 [00:06<00:00, 149.40it/s]\n",
            "100%|██████████| 1000/1000 [00:05<00:00, 171.46it/s]\n",
            "100%|██████████| 1000/1000 [00:07<00:00, 139.65it/s]\n",
            "100%|██████████| 1000/1000 [00:05<00:00, 172.24it/s]\n",
            "100%|██████████| 1000/1000 [00:07<00:00, 142.63it/s]\n",
            "100%|██████████| 1000/1000 [00:05<00:00, 173.07it/s]\n",
            "100%|██████████| 1000/1000 [00:06<00:00, 148.59it/s]\n",
            "100%|██████████| 1000/1000 [00:06<00:00, 157.73it/s]\n",
            "100%|██████████| 1000/1000 [00:06<00:00, 162.08it/s]\n",
            "100%|██████████| 1000/1000 [00:06<00:00, 144.22it/s]\n",
            "100%|██████████| 1000/1000 [00:05<00:00, 172.15it/s]\n",
            "100%|██████████| 1000/1000 [00:07<00:00, 140.13it/s]\n",
            "100%|██████████| 1000/1000 [00:05<00:00, 176.22it/s]\n",
            "100%|██████████| 1000/1000 [00:07<00:00, 140.00it/s]\n",
            "100%|██████████| 1000/1000 [00:05<00:00, 171.17it/s]\n",
            "100%|██████████| 1000/1000 [00:06<00:00, 151.35it/s]\n",
            "100%|██████████| 1000/1000 [00:06<00:00, 157.07it/s]\n",
            "100%|██████████| 1000/1000 [00:05<00:00, 174.01it/s]\n",
            "100%|██████████| 1000/1000 [00:06<00:00, 142.87it/s]\n",
            "100%|██████████| 1000/1000 [00:05<00:00, 172.68it/s]\n",
            "WARNING:matplotlib.image:Clipping input data to the valid range for imshow with RGB data ([0..1] for floats or [0..255] for integers).\n",
            "WARNING:matplotlib.image:Clipping input data to the valid range for imshow with RGB data ([0..1] for floats or [0..255] for integers).\n",
            "WARNING:matplotlib.image:Clipping input data to the valid range for imshow with RGB data ([0..1] for floats or [0..255] for integers).\n",
            "WARNING:matplotlib.image:Clipping input data to the valid range for imshow with RGB data ([0..1] for floats or [0..255] for integers).\n",
            "WARNING:matplotlib.image:Clipping input data to the valid range for imshow with RGB data ([0..1] for floats or [0..255] for integers).\n",
            "WARNING:matplotlib.image:Clipping input data to the valid range for imshow with RGB data ([0..1] for floats or [0..255] for integers).\n",
            "WARNING:matplotlib.image:Clipping input data to the valid range for imshow with RGB data ([0..1] for floats or [0..255] for integers).\n",
            "WARNING:matplotlib.image:Clipping input data to the valid range for imshow with RGB data ([0..1] for floats or [0..255] for integers).\n",
            "WARNING:matplotlib.image:Clipping input data to the valid range for imshow with RGB data ([0..1] for floats or [0..255] for integers).\n",
            "WARNING:matplotlib.image:Clipping input data to the valid range for imshow with RGB data ([0..1] for floats or [0..255] for integers).\n",
            "WARNING:matplotlib.image:Clipping input data to the valid range for imshow with RGB data ([0..1] for floats or [0..255] for integers).\n",
            "WARNING:matplotlib.image:Clipping input data to the valid range for imshow with RGB data ([0..1] for floats or [0..255] for integers).\n",
            "WARNING:matplotlib.image:Clipping input data to the valid range for imshow with RGB data ([0..1] for floats or [0..255] for integers).\n",
            "WARNING:matplotlib.image:Clipping input data to the valid range for imshow with RGB data ([0..1] for floats or [0..255] for integers).\n",
            "WARNING:matplotlib.image:Clipping input data to the valid range for imshow with RGB data ([0..1] for floats or [0..255] for integers).\n",
            "WARNING:matplotlib.image:Clipping input data to the valid range for imshow with RGB data ([0..1] for floats or [0..255] for integers).\n",
            "WARNING:matplotlib.image:Clipping input data to the valid range for imshow with RGB data ([0..1] for floats or [0..255] for integers).\n",
            "WARNING:matplotlib.image:Clipping input data to the valid range for imshow with RGB data ([0..1] for floats or [0..255] for integers).\n",
            "WARNING:matplotlib.image:Clipping input data to the valid range for imshow with RGB data ([0..1] for floats or [0..255] for integers).\n",
            "WARNING:matplotlib.image:Clipping input data to the valid range for imshow with RGB data ([0..1] for floats or [0..255] for integers).\n",
            "WARNING:matplotlib.image:Clipping input data to the valid range for imshow with RGB data ([0..1] for floats or [0..255] for integers).\n",
            "WARNING:matplotlib.image:Clipping input data to the valid range for imshow with RGB data ([0..1] for floats or [0..255] for integers).\n",
            "WARNING:matplotlib.image:Clipping input data to the valid range for imshow with RGB data ([0..1] for floats or [0..255] for integers).\n",
            "WARNING:matplotlib.image:Clipping input data to the valid range for imshow with RGB data ([0..1] for floats or [0..255] for integers).\n",
            "WARNING:matplotlib.image:Clipping input data to the valid range for imshow with RGB data ([0..1] for floats or [0..255] for integers).\n",
            "WARNING:matplotlib.image:Clipping input data to the valid range for imshow with RGB data ([0..1] for floats or [0..255] for integers).\n",
            "WARNING:matplotlib.image:Clipping input data to the valid range for imshow with RGB data ([0..1] for floats or [0..255] for integers).\n",
            "WARNING:matplotlib.image:Clipping input data to the valid range for imshow with RGB data ([0..1] for floats or [0..255] for integers).\n",
            "WARNING:matplotlib.image:Clipping input data to the valid range for imshow with RGB data ([0..1] for floats or [0..255] for integers).\n",
            "WARNING:matplotlib.image:Clipping input data to the valid range for imshow with RGB data ([0..1] for floats or [0..255] for integers).\n",
            "WARNING:matplotlib.image:Clipping input data to the valid range for imshow with RGB data ([0..1] for floats or [0..255] for integers).\n",
            "WARNING:matplotlib.image:Clipping input data to the valid range for imshow with RGB data ([0..1] for floats or [0..255] for integers).\n",
            "WARNING:matplotlib.image:Clipping input data to the valid range for imshow with RGB data ([0..1] for floats or [0..255] for integers).\n",
            "WARNING:matplotlib.image:Clipping input data to the valid range for imshow with RGB data ([0..1] for floats or [0..255] for integers).\n",
            "WARNING:matplotlib.image:Clipping input data to the valid range for imshow with RGB data ([0..1] for floats or [0..255] for integers).\n",
            "WARNING:matplotlib.image:Clipping input data to the valid range for imshow with RGB data ([0..1] for floats or [0..255] for integers).\n",
            "WARNING:matplotlib.image:Clipping input data to the valid range for imshow with RGB data ([0..1] for floats or [0..255] for integers).\n",
            "WARNING:matplotlib.image:Clipping input data to the valid range for imshow with RGB data ([0..1] for floats or [0..255] for integers).\n",
            "WARNING:matplotlib.image:Clipping input data to the valid range for imshow with RGB data ([0..1] for floats or [0..255] for integers).\n",
            "WARNING:matplotlib.image:Clipping input data to the valid range for imshow with RGB data ([0..1] for floats or [0..255] for integers).\n",
            "WARNING:matplotlib.image:Clipping input data to the valid range for imshow with RGB data ([0..1] for floats or [0..255] for integers).\n",
            "WARNING:matplotlib.image:Clipping input data to the valid range for imshow with RGB data ([0..1] for floats or [0..255] for integers).\n",
            "WARNING:matplotlib.image:Clipping input data to the valid range for imshow with RGB data ([0..1] for floats or [0..255] for integers).\n",
            "WARNING:matplotlib.image:Clipping input data to the valid range for imshow with RGB data ([0..1] for floats or [0..255] for integers).\n",
            "WARNING:matplotlib.image:Clipping input data to the valid range for imshow with RGB data ([0..1] for floats or [0..255] for integers).\n",
            "WARNING:matplotlib.image:Clipping input data to the valid range for imshow with RGB data ([0..1] for floats or [0..255] for integers).\n",
            "WARNING:matplotlib.image:Clipping input data to the valid range for imshow with RGB data ([0..1] for floats or [0..255] for integers).\n",
            "WARNING:matplotlib.image:Clipping input data to the valid range for imshow with RGB data ([0..1] for floats or [0..255] for integers).\n",
            "WARNING:matplotlib.image:Clipping input data to the valid range for imshow with RGB data ([0..1] for floats or [0..255] for integers).\n"
          ]
        },
        {
          "output_type": "display_data",
          "data": {
            "text/plain": [
              "<Figure size 800x800 with 49 Axes>"
            ],
            "image/png": "[encoded data removed]"
          },
          "metadata": {}
        }
      ]
    },
    {
      "cell_type": "markdown",
      "source": [
        "# Compare DDIM and DDPM Time"
      ],
      "metadata": {
        "id": "3fs63_aBM53p"
      }
    },
    {
      "cell_type": "code",
      "source": [
        "num_images=50\n",
        "print('DDPM')\n",
        "%timeit -r 1 generate_images(nn_model, num_images, num_timesteps, betas, alpha_cum_prod, sqrt_alpha_cum_prod, sqrt_one_minus_alpha_cum_prod, device,model_type=\"DDPM\")\n",
        "print('DDIM')\n",
        "%timeit -r 1 generate_images(nn_model, num_images, num_timesteps,betas, alpha_cum_prod, sqrt_alpha_cum_prod,sqrt_one_minus_alpha_cum_prod, device,model_type=\"DDIM\",eta=0.8 )"
      ],
      "metadata": {
        "id": "V7Ii37o4xNs1",
        "colab": {
          "base_uri": "https://localhost:8080/"
        },
        "outputId": "5e74f5ac-a4aa-4268-f622-01dffbd0c04b"
      },
      "execution_count": null,
      "outputs": [
        {
          "output_type": "stream",
          "name": "stdout",
          "text": [
            "DDPM\n"
          ]
        },
        {
          "output_type": "stream",
          "name": "stderr",
          "text": [
            "100%|██████████| 1000/1000 [00:05<00:00, 186.07it/s]\n",
            "100%|██████████| 1000/1000 [00:07<00:00, 142.00it/s]\n",
            "100%|██████████| 1000/1000 [00:05<00:00, 176.33it/s]\n",
            "100%|██████████| 1000/1000 [00:07<00:00, 141.55it/s]\n",
            "100%|██████████| 1000/1000 [00:05<00:00, 173.61it/s]\n",
            "100%|██████████| 1000/1000 [00:06<00:00, 155.55it/s]\n",
            "100%|██████████| 1000/1000 [00:06<00:00, 154.99it/s]\n",
            "100%|██████████| 1000/1000 [00:05<00:00, 170.73it/s]\n",
            "100%|██████████| 1000/1000 [00:07<00:00, 142.59it/s]\n",
            "100%|██████████| 1000/1000 [00:05<00:00, 175.51it/s]\n",
            "100%|██████████| 1000/1000 [00:07<00:00, 141.39it/s]\n",
            "100%|██████████| 1000/1000 [00:05<00:00, 175.17it/s]\n",
            "100%|██████████| 1000/1000 [00:06<00:00, 151.36it/s]\n",
            "100%|██████████| 1000/1000 [00:06<00:00, 163.40it/s]\n",
            "100%|██████████| 1000/1000 [00:05<00:00, 167.76it/s]\n",
            "100%|██████████| 1000/1000 [00:06<00:00, 144.88it/s]\n",
            "100%|██████████| 1000/1000 [00:05<00:00, 174.80it/s]\n",
            "100%|██████████| 1000/1000 [00:07<00:00, 140.90it/s]\n",
            "100%|██████████| 1000/1000 [00:05<00:00, 172.78it/s]\n",
            "100%|██████████| 1000/1000 [00:06<00:00, 145.07it/s]\n",
            "100%|██████████| 1000/1000 [00:05<00:00, 171.22it/s]\n",
            "100%|██████████| 1000/1000 [00:06<00:00, 163.99it/s]\n",
            "100%|██████████| 1000/1000 [00:06<00:00, 149.62it/s]\n",
            "100%|██████████| 1000/1000 [00:05<00:00, 173.27it/s]\n",
            "100%|██████████| 1000/1000 [00:07<00:00, 141.89it/s]\n",
            "100%|██████████| 1000/1000 [00:05<00:00, 173.21it/s]\n",
            "100%|██████████| 1000/1000 [00:07<00:00, 141.72it/s]\n",
            "100%|██████████| 1000/1000 [00:05<00:00, 174.16it/s]\n",
            "100%|██████████| 1000/1000 [00:06<00:00, 158.97it/s]\n",
            "100%|██████████| 1000/1000 [00:06<00:00, 156.20it/s]\n",
            "100%|██████████| 1000/1000 [00:05<00:00, 174.67it/s]\n",
            "100%|██████████| 1000/1000 [00:07<00:00, 141.71it/s]\n",
            "100%|██████████| 1000/1000 [00:05<00:00, 175.57it/s]\n",
            "100%|██████████| 1000/1000 [00:07<00:00, 141.41it/s]\n",
            "100%|██████████| 1000/1000 [00:05<00:00, 174.31it/s]\n",
            "100%|██████████| 1000/1000 [00:06<00:00, 150.48it/s]\n",
            "100%|██████████| 1000/1000 [00:06<00:00, 163.49it/s]\n",
            "100%|██████████| 1000/1000 [00:05<00:00, 167.56it/s]\n",
            "100%|██████████| 1000/1000 [00:06<00:00, 147.17it/s]\n",
            "100%|██████████| 1000/1000 [00:05<00:00, 175.25it/s]\n",
            "100%|██████████| 1000/1000 [00:07<00:00, 141.87it/s]\n",
            "100%|██████████| 1000/1000 [00:05<00:00, 175.86it/s]\n",
            "100%|██████████| 1000/1000 [00:06<00:00, 147.24it/s]\n",
            "100%|██████████| 1000/1000 [00:05<00:00, 168.43it/s]\n",
            "100%|██████████| 1000/1000 [00:06<00:00, 164.05it/s]\n",
            "100%|██████████| 1000/1000 [00:06<00:00, 150.72it/s]\n",
            "100%|██████████| 1000/1000 [00:05<00:00, 175.60it/s]\n",
            "100%|██████████| 1000/1000 [00:07<00:00, 141.56it/s]\n",
            "100%|██████████| 1000/1000 [00:05<00:00, 176.24it/s]\n",
            "100%|██████████| 1000/1000 [00:07<00:00, 142.80it/s]\n",
            "100%|██████████| 1000/1000 [00:05<00:00, 186.36it/s]\n",
            "100%|██████████| 1000/1000 [00:06<00:00, 160.48it/s]\n",
            "100%|██████████| 1000/1000 [00:06<00:00, 152.90it/s]\n",
            "100%|██████████| 1000/1000 [00:05<00:00, 175.49it/s]\n",
            "100%|██████████| 1000/1000 [00:07<00:00, 141.78it/s]\n",
            "100%|██████████| 1000/1000 [00:05<00:00, 177.41it/s]\n",
            "100%|██████████| 1000/1000 [00:07<00:00, 142.78it/s]\n",
            "100%|██████████| 1000/1000 [00:05<00:00, 176.62it/s]\n",
            "100%|██████████| 1000/1000 [00:06<00:00, 161.98it/s]\n",
            "100%|██████████| 1000/1000 [00:06<00:00, 154.19it/s]\n",
            "100%|██████████| 1000/1000 [00:05<00:00, 177.46it/s]\n",
            "100%|██████████| 1000/1000 [00:07<00:00, 142.49it/s]\n",
            "100%|██████████| 1000/1000 [00:05<00:00, 176.94it/s]\n",
            "100%|██████████| 1000/1000 [00:07<00:00, 142.04it/s]\n",
            "100%|██████████| 1000/1000 [00:05<00:00, 175.95it/s]\n",
            "100%|██████████| 1000/1000 [00:06<00:00, 160.93it/s]\n",
            "100%|██████████| 1000/1000 [00:06<00:00, 154.77it/s]\n",
            "100%|██████████| 1000/1000 [00:05<00:00, 175.80it/s]\n",
            "100%|██████████| 1000/1000 [00:07<00:00, 141.75it/s]\n",
            "100%|██████████| 1000/1000 [00:05<00:00, 174.95it/s]\n",
            "100%|██████████| 1000/1000 [00:06<00:00, 143.59it/s]\n",
            "100%|██████████| 1000/1000 [00:05<00:00, 173.46it/s]\n",
            "100%|██████████| 1000/1000 [00:06<00:00, 154.30it/s]\n",
            "100%|██████████| 1000/1000 [00:06<00:00, 156.90it/s]\n",
            "100%|██████████| 1000/1000 [00:05<00:00, 171.41it/s]\n",
            "100%|██████████| 1000/1000 [00:06<00:00, 144.24it/s]\n",
            "100%|██████████| 1000/1000 [00:05<00:00, 176.26it/s]\n",
            "100%|██████████| 1000/1000 [00:06<00:00, 143.18it/s]\n",
            "100%|██████████| 1000/1000 [00:05<00:00, 173.53it/s]\n",
            "100%|██████████| 1000/1000 [00:06<00:00, 150.63it/s]\n",
            "100%|██████████| 1000/1000 [00:06<00:00, 165.99it/s]\n",
            "100%|██████████| 1000/1000 [00:05<00:00, 170.21it/s]\n",
            "100%|██████████| 1000/1000 [00:06<00:00, 146.63it/s]\n",
            "100%|██████████| 1000/1000 [00:05<00:00, 173.78it/s]\n",
            "100%|██████████| 1000/1000 [00:07<00:00, 141.97it/s]\n",
            "100%|██████████| 1000/1000 [00:05<00:00, 175.65it/s]\n",
            "100%|██████████| 1000/1000 [00:06<00:00, 147.69it/s]\n",
            "100%|██████████| 1000/1000 [00:05<00:00, 170.32it/s]\n",
            "100%|██████████| 1000/1000 [00:06<00:00, 164.42it/s]\n",
            "100%|██████████| 1000/1000 [00:06<00:00, 151.35it/s]\n",
            "100%|██████████| 1000/1000 [00:05<00:00, 176.92it/s]\n",
            "100%|██████████| 1000/1000 [00:06<00:00, 143.79it/s]\n",
            "100%|██████████| 1000/1000 [00:05<00:00, 174.13it/s]\n",
            "100%|██████████| 1000/1000 [00:06<00:00, 143.81it/s]\n",
            "100%|██████████| 1000/1000 [00:05<00:00, 173.48it/s]\n",
            "100%|██████████| 1000/1000 [00:06<00:00, 160.92it/s]\n",
            "100%|██████████| 1000/1000 [00:06<00:00, 152.68it/s]\n",
            "100%|██████████| 1000/1000 [00:05<00:00, 175.77it/s]\n",
            "100%|██████████| 1000/1000 [00:07<00:00, 142.50it/s]\n",
            "100%|██████████| 1000/1000 [00:05<00:00, 175.26it/s]\n"
          ]
        },
        {
          "output_type": "stream",
          "name": "stdout",
          "text": [
            "5min 12s ± 0 ns per loop (mean ± std. dev. of 1 run, 1 loop each)\n",
            "DDIM\n"
          ]
        },
        {
          "output_type": "stream",
          "name": "stderr",
          "text": [
            "100%|██████████| 1000/1000 [00:06<00:00, 150.90it/s]\n",
            "100%|██████████| 1000/1000 [00:05<00:00, 177.96it/s]\n",
            "100%|██████████| 1000/1000 [00:06<00:00, 160.82it/s]\n",
            "100%|██████████| 1000/1000 [00:06<00:00, 158.55it/s]\n",
            "100%|██████████| 1000/1000 [00:05<00:00, 178.77it/s]\n",
            "100%|██████████| 1000/1000 [00:06<00:00, 144.50it/s]\n",
            "100%|██████████| 1000/1000 [00:05<00:00, 179.22it/s]\n",
            "100%|██████████| 1000/1000 [00:06<00:00, 144.32it/s]\n",
            "100%|██████████| 1000/1000 [00:05<00:00, 178.30it/s]\n",
            "100%|██████████| 1000/1000 [00:06<00:00, 164.43it/s]\n",
            "100%|██████████| 1000/1000 [00:06<00:00, 155.16it/s]\n",
            "100%|██████████| 1000/1000 [00:05<00:00, 178.24it/s]\n",
            "100%|██████████| 1000/1000 [00:07<00:00, 142.23it/s]\n",
            "100%|██████████| 1000/1000 [00:05<00:00, 178.24it/s]\n",
            "100%|██████████| 1000/1000 [00:06<00:00, 143.34it/s]\n",
            "100%|██████████| 1000/1000 [00:05<00:00, 179.53it/s]\n",
            "100%|██████████| 1000/1000 [00:06<00:00, 164.30it/s]\n",
            "100%|██████████| 1000/1000 [00:06<00:00, 153.84it/s]\n",
            "100%|██████████| 1000/1000 [00:05<00:00, 178.69it/s]\n",
            "100%|██████████| 1000/1000 [00:06<00:00, 144.44it/s]\n",
            "100%|██████████| 1000/1000 [00:05<00:00, 179.36it/s]\n",
            "100%|██████████| 1000/1000 [00:06<00:00, 144.93it/s]\n",
            "100%|██████████| 1000/1000 [00:05<00:00, 171.22it/s]\n",
            "100%|██████████| 1000/1000 [00:06<00:00, 164.41it/s]\n",
            "100%|██████████| 1000/1000 [00:06<00:00, 154.01it/s]\n",
            "100%|██████████| 1000/1000 [00:05<00:00, 179.41it/s]\n",
            "100%|██████████| 1000/1000 [00:06<00:00, 143.09it/s]\n",
            "100%|██████████| 1000/1000 [00:05<00:00, 177.37it/s]\n",
            "100%|██████████| 1000/1000 [00:06<00:00, 145.00it/s]\n",
            "100%|██████████| 1000/1000 [00:05<00:00, 176.24it/s]\n",
            "100%|██████████| 1000/1000 [00:06<00:00, 165.18it/s]\n",
            "100%|██████████| 1000/1000 [00:06<00:00, 152.32it/s]\n",
            "100%|██████████| 1000/1000 [00:05<00:00, 177.47it/s]\n",
            "100%|██████████| 1000/1000 [00:06<00:00, 143.49it/s]\n",
            "100%|██████████| 1000/1000 [00:05<00:00, 178.76it/s]\n",
            "100%|██████████| 1000/1000 [00:06<00:00, 144.33it/s]\n",
            "100%|██████████| 1000/1000 [00:05<00:00, 173.55it/s]\n",
            "100%|██████████| 1000/1000 [00:06<00:00, 164.20it/s]\n",
            "100%|██████████| 1000/1000 [00:06<00:00, 152.53it/s]\n",
            "100%|██████████| 1000/1000 [00:05<00:00, 178.72it/s]\n",
            "100%|██████████| 1000/1000 [00:06<00:00, 143.75it/s]\n",
            "100%|██████████| 1000/1000 [00:05<00:00, 175.42it/s]\n",
            "100%|██████████| 1000/1000 [00:06<00:00, 145.01it/s]\n",
            "100%|██████████| 1000/1000 [00:05<00:00, 175.96it/s]\n",
            "100%|██████████| 1000/1000 [00:06<00:00, 165.98it/s]\n",
            "100%|██████████| 1000/1000 [00:06<00:00, 152.52it/s]\n",
            "100%|██████████| 1000/1000 [00:05<00:00, 177.08it/s]\n",
            "100%|██████████| 1000/1000 [00:06<00:00, 143.82it/s]\n",
            "100%|██████████| 1000/1000 [00:05<00:00, 177.11it/s]\n",
            "100%|██████████| 1000/1000 [00:06<00:00, 146.16it/s]\n",
            "100%|██████████| 1000/1000 [00:05<00:00, 188.30it/s]\n",
            "100%|██████████| 1000/1000 [00:06<00:00, 164.62it/s]\n",
            "100%|██████████| 1000/1000 [00:06<00:00, 151.17it/s]\n",
            "100%|██████████| 1000/1000 [00:05<00:00, 179.75it/s]\n",
            "100%|██████████| 1000/1000 [00:06<00:00, 142.86it/s]\n",
            "100%|██████████| 1000/1000 [00:05<00:00, 178.34it/s]\n",
            "100%|██████████| 1000/1000 [00:06<00:00, 144.34it/s]\n",
            "100%|██████████| 1000/1000 [00:05<00:00, 175.86it/s]\n",
            "100%|██████████| 1000/1000 [00:06<00:00, 166.34it/s]\n",
            "100%|██████████| 1000/1000 [00:06<00:00, 151.96it/s]\n",
            "100%|██████████| 1000/1000 [00:05<00:00, 178.05it/s]\n",
            "100%|██████████| 1000/1000 [00:07<00:00, 142.55it/s]\n",
            "100%|██████████| 1000/1000 [00:05<00:00, 178.66it/s]\n",
            "100%|██████████| 1000/1000 [00:06<00:00, 147.17it/s]\n",
            "100%|██████████| 1000/1000 [00:05<00:00, 170.47it/s]\n",
            "100%|██████████| 1000/1000 [00:06<00:00, 166.54it/s]\n",
            "100%|██████████| 1000/1000 [00:06<00:00, 151.38it/s]\n",
            "100%|██████████| 1000/1000 [00:05<00:00, 178.81it/s]\n",
            "100%|██████████| 1000/1000 [00:06<00:00, 144.32it/s]\n",
            "100%|██████████| 1000/1000 [00:05<00:00, 178.15it/s]\n",
            "100%|██████████| 1000/1000 [00:06<00:00, 149.64it/s]\n",
            "100%|██████████| 1000/1000 [00:05<00:00, 167.72it/s]\n",
            "100%|██████████| 1000/1000 [00:05<00:00, 168.43it/s]\n",
            "100%|██████████| 1000/1000 [00:06<00:00, 149.34it/s]\n",
            "100%|██████████| 1000/1000 [00:05<00:00, 177.18it/s]\n",
            "100%|██████████| 1000/1000 [00:07<00:00, 142.55it/s]\n",
            "100%|██████████| 1000/1000 [00:05<00:00, 178.95it/s]\n",
            "100%|██████████| 1000/1000 [00:06<00:00, 151.19it/s]\n",
            "100%|██████████| 1000/1000 [00:05<00:00, 169.36it/s]\n",
            "100%|██████████| 1000/1000 [00:05<00:00, 171.23it/s]\n",
            "100%|██████████| 1000/1000 [00:06<00:00, 148.61it/s]\n",
            "100%|██████████| 1000/1000 [00:05<00:00, 177.65it/s]\n",
            "100%|██████████| 1000/1000 [00:06<00:00, 143.55it/s]\n",
            "100%|██████████| 1000/1000 [00:05<00:00, 178.58it/s]\n",
            "100%|██████████| 1000/1000 [00:06<00:00, 149.92it/s]\n",
            "100%|██████████| 1000/1000 [00:05<00:00, 167.10it/s]\n",
            "100%|██████████| 1000/1000 [00:05<00:00, 172.25it/s]\n",
            "100%|██████████| 1000/1000 [00:06<00:00, 147.65it/s]\n",
            "100%|██████████| 1000/1000 [00:05<00:00, 179.53it/s]\n",
            "100%|██████████| 1000/1000 [00:06<00:00, 143.48it/s]\n",
            "100%|██████████| 1000/1000 [00:05<00:00, 177.54it/s]\n",
            "100%|██████████| 1000/1000 [00:06<00:00, 150.12it/s]\n",
            "100%|██████████| 1000/1000 [00:05<00:00, 167.96it/s]\n",
            "100%|██████████| 1000/1000 [00:05<00:00, 173.39it/s]\n",
            "100%|██████████| 1000/1000 [00:06<00:00, 147.79it/s]\n",
            "100%|██████████| 1000/1000 [00:05<00:00, 177.76it/s]\n",
            "100%|██████████| 1000/1000 [00:06<00:00, 143.68it/s]\n",
            "100%|██████████| 1000/1000 [00:05<00:00, 179.02it/s]\n",
            "100%|██████████| 1000/1000 [00:06<00:00, 153.98it/s]\n",
            "100%|██████████| 1000/1000 [00:06<00:00, 165.18it/s]\n"
          ]
        },
        {
          "output_type": "stream",
          "name": "stdout",
          "text": [
            "5min 9s ± 0 ns per loop (mean ± std. dev. of 1 run, 1 loop each)\n"
          ]
        }
      ]
    },
    {
      "cell_type": "code",
      "source": [
        "import torch\n",
        "import os\n",
        "device = torch.device('cuda' if torch.cuda.is_available() else 'cpu')\n",
        "#model = Unet().to(device)\n",
        "save_dir = '/content/drive/MyDrive/DDPM'\n",
        "ep = 69\n",
        "checkpoint_path = os.path.join(save_dir, f'Epoch_{ep}_checkpoint.pth')\n",
        "state_dict = torch.load(checkpoint_path)\n",
        "nn_model.load_state_dict(state_dict)"
      ],
      "metadata": {
        "colab": {
          "base_uri": "https://localhost:8080/"
        },
        "id": "KZjp8E6lIlwR",
        "outputId": "b4dde46b-4421-4845-f57f-0687fc27f70d"
      },
      "execution_count": null,
      "outputs": [
        {
          "output_type": "stream",
          "name": "stderr",
          "text": [
            "<ipython-input-159-285e5b4e517f>:8: FutureWarning: You are using `torch.load` with `weights_only=False` (the current default value), which uses the default pickle module implicitly. It is possible to construct malicious pickle data which will execute arbitrary code during unpickling (See https://github.com/pytorch/pytorch/blob/main/SECURITY.md#untrusted-models for more details). In a future release, the default value for `weights_only` will be flipped to `True`. This limits the functions that could be executed during unpickling. Arbitrary objects will no longer be allowed to be loaded via this mode unless they are explicitly allowlisted by the user via `torch.serialization.add_safe_globals`. We recommend you start setting `weights_only=True` for any use case where you don't have full control of the loaded file. Please open an issue on GitHub for any issues related to this experimental feature.\n",
            "  state_dict = torch.load(checkpoint_path)\n"
          ]
        },
        {
          "output_type": "execute_result",
          "data": {
            "text/plain": [
              "<All keys matched successfully>"
            ]
          },
          "metadata": {},
          "execution_count": 159
        }
      ]
    }
  ],
  "metadata": {
    "colab": {
      "collapsed_sections": [
        "XNV8VFSJ1mlk",
        "xTeE9epD0tzL",
        "2x7PbWcCjx-p",
        "iHW_vnYh0E70"
      ],
      "provenance": [],
      "gpuType": "T4"
    },
    "kernelspec": {
      "display_name": "Python 3",
      "name": "python3"
    },
    "language_info": {
      "name": "python"
    },
    "accelerator": "GPU"
  },
  "nbformat": 4,
  "nbformat_minor": 0
}